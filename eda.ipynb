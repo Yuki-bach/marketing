{
 "cells": [
  {
   "cell_type": "code",
   "execution_count": 1,
   "id": "6ca2e6d8",
   "metadata": {},
   "outputs": [],
   "source": [
    "import pandas as pd"
   ]
  },
  {
   "cell_type": "markdown",
   "id": "5c67e046",
   "metadata": {},
   "source": [
    "## Import datasets"
   ]
  },
  {
   "cell_type": "code",
   "execution_count": 2,
   "id": "b22f321a",
   "metadata": {},
   "outputs": [],
   "source": [
    "df_customers = pd.read_csv('datasets/olist_customers_dataset.csv')\n",
    "df_geolocation = pd.read_csv('datasets/olist_geolocation_dataset.csv')\n",
    "df_order_items = pd.read_csv('datasets/olist_order_items_dataset.csv')\n",
    "df_order_payments = pd.read_csv('datasets/olist_order_payments_dataset.csv')\n",
    "df_order_reviews = pd.read_csv('datasets/olist_order_reviews_dataset.csv')\n",
    "df_orders = pd.read_csv('datasets/olist_orders_dataset.csv')\n",
    "df_products = pd.read_csv('datasets/olist_products_dataset.csv')\n",
    "df_sellers = pd.read_csv('datasets/olist_sellers_dataset.csv')\n",
    "df_product_category_name = pd.read_csv('datasets/product_category_name_translation.csv')\n"
   ]
  },
  {
   "cell_type": "code",
   "execution_count": 3,
   "id": "4ceacb34",
   "metadata": {},
   "outputs": [
    {
     "name": "stdout",
     "output_type": "stream",
     "text": [
      "df_customers: (99441, 5)\n",
      "df_geolocation: (1000163, 5)\n",
      "df_order_items: (112650, 7)\n",
      "df_order_payments: (103886, 5)\n",
      "df_order_reviews: (99224, 7)\n",
      "df_orders: (99441, 8)\n",
      "df_products: (32951, 9)\n",
      "df_sellers: (3095, 4)\n",
      "df_product_category_name: (71, 2)\n"
     ]
    }
   ],
   "source": [
    "print(f\"df_customers: {df_customers.shape}\")\n",
    "print(f\"df_geolocation: {df_geolocation.shape}\")\n",
    "print(f\"df_order_items: {df_order_items.shape}\")\n",
    "print(f\"df_order_payments: {df_order_payments.shape}\")\n",
    "print(f\"df_order_reviews: {df_order_reviews.shape}\")\n",
    "print(f\"df_orders: {df_orders.shape}\")\n",
    "print(f\"df_products: {df_products.shape}\")\n",
    "print(f\"df_sellers: {df_sellers.shape}\")\n",
    "print(f\"df_product_category_name: {df_product_category_name.shape}\")"
   ]
  },
  {
   "cell_type": "markdown",
   "id": "00a740e7",
   "metadata": {},
   "source": [
    "[![Image from Gyazo](https://i.gyazo.com/72f086a4361acdf88b86c88b801d4121.png)](https://gyazo.com/72f086a4361acdf88b86c88b801d4121)"
   ]
  },
  {
   "cell_type": "markdown",
   "id": "91224396",
   "metadata": {},
   "source": [
    "## EDA"
   ]
  }
 ],
 "metadata": {
  "kernelspec": {
   "display_name": "Python 3 (ipykernel)",
   "language": "python",
   "name": "python3"
  },
  "language_info": {
   "codemirror_mode": {
    "name": "ipython",
    "version": 3
   },
   "file_extension": ".py",
   "mimetype": "text/x-python",
   "name": "python",
   "nbconvert_exporter": "python",
   "pygments_lexer": "ipython3",
   "version": "3.11.5"
  },
  "toc": {
   "base_numbering": 1,
   "nav_menu": {},
   "number_sections": true,
   "sideBar": true,
   "skip_h1_title": false,
   "title_cell": "Table of Contents",
   "title_sidebar": "Contents",
   "toc_cell": false,
   "toc_position": {},
   "toc_section_display": true,
   "toc_window_display": false
  },
  "varInspector": {
   "cols": {
    "lenName": 16,
    "lenType": 16,
    "lenVar": 40
   },
   "kernels_config": {
    "python": {
     "delete_cmd_postfix": "",
     "delete_cmd_prefix": "del ",
     "library": "var_list.py",
     "varRefreshCmd": "print(var_dic_list())"
    },
    "r": {
     "delete_cmd_postfix": ") ",
     "delete_cmd_prefix": "rm(",
     "library": "var_list.r",
     "varRefreshCmd": "cat(var_dic_list()) "
    }
   },
   "types_to_exclude": [
    "module",
    "function",
    "builtin_function_or_method",
    "instance",
    "_Feature"
   ],
   "window_display": false
  }
 },
 "nbformat": 4,
 "nbformat_minor": 5
}
