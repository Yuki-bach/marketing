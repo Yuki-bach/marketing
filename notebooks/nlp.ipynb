{
 "cells": [
  {
   "cell_type": "code",
   "execution_count": 4,
   "metadata": {},
   "outputs": [],
   "source": [
    "import pandas as pd"
   ]
  },
  {
   "cell_type": "markdown",
   "metadata": {},
   "source": [
    "## Goal\n",
    "- Using `review_comment_list`, get the word cloud of the review comments.\n",
    "- The referenced kaggle website predicts the review score, but we don't need it."
   ]
  },
  {
   "cell_type": "code",
   "execution_count": 5,
   "metadata": {},
   "outputs": [],
   "source": [
    "# Read datasets\n",
    "\n",
    "# This dataset is just sample. After getting the clusters, we will use the datasets.\n",
    "# I'm working on the preprocessing of the datasets. After that, you can use the clustered datasets.\n",
    "# But for now, please use this sample\n",
    "cluster = pd.read_csv('../datasets/df_sample_5000.csv')\n",
    "df_order_reviews = pd.read_csv('../datasets/olist_order_reviews_dataset.csv')\n",
    "\n",
    "# merege datasets by order_id\n",
    "merged_df = pd.merge(\n",
    "    cluster[['fo_order_id']],\n",
    "    df_order_reviews[['order_id', 'review_comment_message']],\n",
    "    left_on='fo_order_id',\n",
    "    right_on='order_id',\n",
    "    how='inner'\n",
    ")\n",
    "\n",
    "review_comment_list = merged_df['review_comment_message'].tolist()"
   ]
  },
  {
   "cell_type": "code",
   "execution_count": 6,
   "metadata": {},
   "outputs": [
    {
     "name": "stdout",
     "output_type": "stream",
     "text": [
      "4985\n",
      "['muito bom', nan, 'Entregou no prazo, chegou bem embalada. Pensei que viesse em uma única caixa e não em duas, achei o frete caro, mas fora isso, tudo bem.\\r\\n', nan, nan, nan, nan, nan, nan, 'Como sempre entrega antes do prazo previsto. \\r\\nProduto de qualidade, conforme o esperado.']\n"
     ]
    }
   ],
   "source": [
    "print(len(review_comment_list))\n",
    "print(review_comment_list[:10])"
   ]
  }
 ],
 "metadata": {
  "kernelspec": {
   "display_name": "base",
   "language": "python",
   "name": "python3"
  },
  "language_info": {
   "codemirror_mode": {
    "name": "ipython",
    "version": 3
   },
   "file_extension": ".py",
   "mimetype": "text/x-python",
   "name": "python",
   "nbconvert_exporter": "python",
   "pygments_lexer": "ipython3",
   "version": "3.11.5"
  }
 },
 "nbformat": 4,
 "nbformat_minor": 2
}
