{
 "cells": [
  {
   "cell_type": "code",
   "execution_count": 1,
   "metadata": {},
   "outputs": [],
   "source": [
    "import pandas as pd\n",
    "from deep_translator import GoogleTranslator"
   ]
  },
  {
   "cell_type": "markdown",
   "metadata": {},
   "source": [
    "## Goal\n",
    "- Using `review_comment_list`, get the word cloud of the review comments.\n",
    "- The referenced kaggle website predicts the review score, but we don't need it."
   ]
  },
  {
   "cell_type": "code",
   "execution_count": 2,
   "metadata": {},
   "outputs": [],
   "source": [
    "# Read datasets\n",
    "\n",
    "# This dataset is just sample. After getting the clusters, we will use the datasets.\n",
    "# I'm working on the preprocessing of the datasets. After that, you can use the clustered datasets.\n",
    "# But for now, please use this sample\n",
    "cluster = pd.read_csv('../datasets/df_sample_5000.csv')\n",
    "df_order_reviews = pd.read_csv('../datasets/olist_order_reviews_dataset.csv')"
   ]
  },
  {
   "cell_type": "code",
   "execution_count": 3,
   "metadata": {},
   "outputs": [
    {
     "name": "stdout",
     "output_type": "stream",
     "text": [
      "len(review_comment_list): 2017\n"
     ]
    }
   ],
   "source": [
    "# merege datasets by order_id\n",
    "merged_df = pd.merge(\n",
    "    cluster[['fo_order_id']],\n",
    "    df_order_reviews[['order_id', 'review_comment_message']],\n",
    "    left_on='fo_order_id',\n",
    "    right_on='order_id',\n",
    "    how='inner'\n",
    ")\n",
    "\n",
    "review_comment_list = merged_df['review_comment_message'].tolist()\n",
    "\n",
    "# Remove NaN values\n",
    "review_comment_list = [x for x in review_comment_list if str(x) != 'nan']\n",
    "# Remove empty string\n",
    "review_comment_list = [x for x in review_comment_list if x != '']\n",
    "\n",
    "print(f\"len(review_comment_list): {len(review_comment_list)}\")"
   ]
  },
  {
   "cell_type": "code",
   "execution_count": 4,
   "metadata": {},
   "outputs": [
    {
     "name": "stdout",
     "output_type": "stream",
     "text": [
      "muito bom\n",
      "Entregou no prazo, chegou bem embalada. Pensei que viesse em uma única caixa e não em duas, achei o frete caro, mas fora isso, tudo bem.\n",
      "\n",
      "Como sempre entrega antes do prazo previsto. \n",
      "Produto de qualidade, conforme o esperado.\n",
      "Produto conforme anunciado!!!\n",
      "Adorei.\n",
      "Tudo perfeito. \n",
      "Rastreamento, entrega rápida e o produto. \n",
      "entrega realizada duas semanas antes do fim do prazo.\n",
      "Recebi o produto correto e antes do prazo.\n",
      "Perfeito tempo de entrega chegou muito antes do prazo determinado fico lisonjeado e agradecido tanto a empresa quanto a transportadora.\n",
      "A cor dos produtos entregues não conferem com o meu pedido. A cor das mantas pedidas foi a cor tabaco. Mantas entregues na cor cinza\n",
      "muito bom\n"
     ]
    }
   ],
   "source": [
    "# check the first 10 review comments\n",
    "for s in review_comment_list[:10]:\n",
    "    print(s)"
   ]
  },
  {
   "cell_type": "code",
   "execution_count": 5,
   "metadata": {},
   "outputs": [],
   "source": [
    "## Text Cleaning and Processing"
   ]
  },
  {
   "cell_type": "code",
   "execution_count": 6,
   "metadata": {},
   "outputs": [
    {
     "data": {
      "text/plain": [
       "['very good',\n",
       " 'Delivered on time, arrived well packaged. I thought it came in a single box and not two, I thought the shipping was expensive, but other than that, it was fine.',\n",
       " 'As always delivered ahead of schedule.\\r\\nQuality product, as expected.',\n",
       " 'Product as advertised!!!',\n",
       " 'I loved.\\r\\nEverything perfect.\\r\\nTracking, fast delivery and the product.',\n",
       " 'delivery made two weeks before the deadline.',\n",
       " 'I received the correct product and before the deadline.',\n",
       " 'Perfect delivery time, arrived well before the deadline, I am flattered and grateful to both the company and the carrier.',\n",
       " 'The color of the products delivered does not match my order. The color of the blankets requested was tobacco color. Blankets delivered in gray',\n",
       " 'very good']"
      ]
     },
     "execution_count": 6,
     "metadata": {},
     "output_type": "execute_result"
    }
   ],
   "source": [
    "## Translate the text\n",
    "non_satisfied_trans = []\n",
    "\n",
    "for sentence in review_comment_list[:10]: # first 10 review comments\n",
    "    non_satisfied_trans.append(GoogleTranslator(source='portuguese', target='english').translate(sentence))\n",
    "\n",
    "non_satisfied_trans"
   ]
  },
  {
   "cell_type": "code",
   "execution_count": null,
   "metadata": {},
   "outputs": [],
   "source": []
  }
 ],
 "metadata": {
  "kernelspec": {
   "display_name": "base",
   "language": "python",
   "name": "python3"
  },
  "language_info": {
   "codemirror_mode": {
    "name": "ipython",
    "version": 3
   },
   "file_extension": ".py",
   "mimetype": "text/x-python",
   "name": "python",
   "nbconvert_exporter": "python",
   "pygments_lexer": "ipython3",
   "version": "3.11.5"
  }
 },
 "nbformat": 4,
 "nbformat_minor": 2
}
