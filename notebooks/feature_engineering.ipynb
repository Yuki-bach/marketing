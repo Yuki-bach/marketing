{
 "cells": [
  {
   "cell_type": "code",
   "execution_count": 1,
   "metadata": {},
   "outputs": [],
   "source": [
    "import json\n",
    "import matplotlib.pyplot as plt\n",
    "import numpy as np\n",
    "import pandas as pd\n",
    "import seaborn as sns\n",
    "from cycler import cycler\n",
    "\n",
    "%matplotlib inline\n",
    "\n",
    "# Set color cycle for all plots\n",
    "plt.rcParams[\"axes.prop_cycle\"] = cycler(\n",
    "    color=[plt.get_cmap(\"Set2\")(i) for i in range(9)]\n",
    ")"
   ]
  },
  {
   "cell_type": "markdown",
   "metadata": {},
   "source": [
    "## Overview\n",
    "- Create features to prepare for using some classification algorithm.\n",
    "- PK is `customer_unique_id`\n",
    "- Row count should be 96096. (the number of `customer_unique_id`)"
   ]
  },
  {
   "cell_type": "markdown",
   "metadata": {},
   "source": [
    "## Features\n",
    "We create the following features in this notebook.\n",
    "\n",
    "fo = first order that customer made"
   ]
  },
  {
   "cell_type": "code",
   "execution_count": 2,
   "metadata": {},
   "outputs": [
    {
     "data": {
      "text/html": [
       "<div>\n",
       "<style scoped>\n",
       "    .dataframe tbody tr th:only-of-type {\n",
       "        vertical-align: middle;\n",
       "    }\n",
       "\n",
       "    .dataframe tbody tr th {\n",
       "        vertical-align: top;\n",
       "    }\n",
       "\n",
       "    .dataframe thead th {\n",
       "        text-align: right;\n",
       "    }\n",
       "</style>\n",
       "<table border=\"1\" class=\"dataframe\">\n",
       "  <thead>\n",
       "    <tr style=\"text-align: right;\">\n",
       "      <th></th>\n",
       "      <th>column</th>\n",
       "      <th>source</th>\n",
       "      <th>description</th>\n",
       "    </tr>\n",
       "  </thead>\n",
       "  <tbody>\n",
       "    <tr>\n",
       "      <th>0</th>\n",
       "      <td>customer_unique_id</td>\n",
       "      <td>df_customers</td>\n",
       "      <td>PK</td>\n",
       "    </tr>\n",
       "    <tr>\n",
       "      <th>1</th>\n",
       "      <td>customer_zip_code_prefix</td>\n",
       "      <td>df_customers</td>\n",
       "      <td></td>\n",
       "    </tr>\n",
       "    <tr>\n",
       "      <th>2</th>\n",
       "      <td>customer_city</td>\n",
       "      <td>df_customers</td>\n",
       "      <td></td>\n",
       "    </tr>\n",
       "    <tr>\n",
       "      <th>3</th>\n",
       "      <td>customer_state</td>\n",
       "      <td>df_customers</td>\n",
       "      <td></td>\n",
       "    </tr>\n",
       "    <tr>\n",
       "      <th>4</th>\n",
       "      <td>customer_in_sao_paulo</td>\n",
       "      <td>Calculated</td>\n",
       "      <td>1:in Sao Paulo, 0:non-Sao Paulo</td>\n",
       "    </tr>\n",
       "    <tr>\n",
       "      <th>5</th>\n",
       "      <td>fo_order_id</td>\n",
       "      <td>df_orders</td>\n",
       "      <td>FK</td>\n",
       "    </tr>\n",
       "    <tr>\n",
       "      <th>6</th>\n",
       "      <td>fo_customer_id</td>\n",
       "      <td>df_orders</td>\n",
       "      <td>FK (first order's customer_id)</td>\n",
       "    </tr>\n",
       "    <tr>\n",
       "      <th>7</th>\n",
       "      <td>fo_order_status</td>\n",
       "      <td>df_orders</td>\n",
       "      <td></td>\n",
       "    </tr>\n",
       "    <tr>\n",
       "      <th>8</th>\n",
       "      <td>fo_order_purchase_timestamp</td>\n",
       "      <td>df_orders</td>\n",
       "      <td></td>\n",
       "    </tr>\n",
       "    <tr>\n",
       "      <th>9</th>\n",
       "      <td>fo_order_approved_at</td>\n",
       "      <td>df_orders</td>\n",
       "      <td></td>\n",
       "    </tr>\n",
       "    <tr>\n",
       "      <th>10</th>\n",
       "      <td>fo_order_delivered_carrier_date</td>\n",
       "      <td>df_orders</td>\n",
       "      <td></td>\n",
       "    </tr>\n",
       "    <tr>\n",
       "      <th>11</th>\n",
       "      <td>fo_order_delivered_customer_date</td>\n",
       "      <td>df_orders</td>\n",
       "      <td></td>\n",
       "    </tr>\n",
       "    <tr>\n",
       "      <th>12</th>\n",
       "      <td>fo_order_estimated_delivery_date</td>\n",
       "      <td>df_orders</td>\n",
       "      <td></td>\n",
       "    </tr>\n",
       "    <tr>\n",
       "      <th>13</th>\n",
       "      <td>fo_is_daytime</td>\n",
       "      <td>Calculated</td>\n",
       "      <td>1:9-23, 0:0-8</td>\n",
       "    </tr>\n",
       "    <tr>\n",
       "      <th>14</th>\n",
       "      <td>fo_is_weekday</td>\n",
       "      <td>Calculated</td>\n",
       "      <td>1:weekday, 0:weekend</td>\n",
       "    </tr>\n",
       "    <tr>\n",
       "      <th>15</th>\n",
       "      <td>frequency</td>\n",
       "      <td>Calculated</td>\n",
       "      <td>number of orders</td>\n",
       "    </tr>\n",
       "    <tr>\n",
       "      <th>16</th>\n",
       "      <td>recency</td>\n",
       "      <td>Calculated</td>\n",
       "      <td># of days after the last order</td>\n",
       "    </tr>\n",
       "    <tr>\n",
       "      <th>17</th>\n",
       "      <td>monetary</td>\n",
       "      <td>Calculated</td>\n",
       "      <td>total payment amount</td>\n",
       "    </tr>\n",
       "    <tr>\n",
       "      <th>18</th>\n",
       "      <td>rfm_score</td>\n",
       "      <td>Calculated</td>\n",
       "      <td>using k-means. (0-3)</td>\n",
       "    </tr>\n",
       "    <tr>\n",
       "      <th>19</th>\n",
       "      <td>repeater</td>\n",
       "      <td>Calculated</td>\n",
       "      <td>1:repeater, 0:non-repeater</td>\n",
       "    </tr>\n",
       "    <tr>\n",
       "      <th>20</th>\n",
       "      <td>fo_delivery_delay_days</td>\n",
       "      <td>Calculated</td>\n",
       "      <td>&gt;0:delay, &lt;0:ahead</td>\n",
       "    </tr>\n",
       "    <tr>\n",
       "      <th>21</th>\n",
       "      <td>fo_voucher_used</td>\n",
       "      <td>Calculated</td>\n",
       "      <td>1:used, 0:non-used</td>\n",
       "    </tr>\n",
       "    <tr>\n",
       "      <th>22</th>\n",
       "      <td>fo_review_score_mean</td>\n",
       "      <td>df_order_reviews</td>\n",
       "      <td></td>\n",
       "    </tr>\n",
       "    <tr>\n",
       "      <th>23</th>\n",
       "      <td>fo_voucher_payment_value</td>\n",
       "      <td>df_order_payments</td>\n",
       "      <td></td>\n",
       "    </tr>\n",
       "    <tr>\n",
       "      <th>24</th>\n",
       "      <td>fo_product_category_name</td>\n",
       "      <td>df_product_category_name</td>\n",
       "      <td></td>\n",
       "    </tr>\n",
       "    <tr>\n",
       "      <th>25</th>\n",
       "      <td>fo_payment_value</td>\n",
       "      <td>df_order_payments</td>\n",
       "      <td></td>\n",
       "    </tr>\n",
       "  </tbody>\n",
       "</table>\n",
       "</div>"
      ],
      "text/plain": [
       "                              column                    source  \\\n",
       "0                 customer_unique_id              df_customers   \n",
       "1           customer_zip_code_prefix              df_customers   \n",
       "2                      customer_city              df_customers   \n",
       "3                     customer_state              df_customers   \n",
       "4              customer_in_sao_paulo                Calculated   \n",
       "5                        fo_order_id                 df_orders   \n",
       "6                     fo_customer_id                 df_orders   \n",
       "7                    fo_order_status                 df_orders   \n",
       "8        fo_order_purchase_timestamp                 df_orders   \n",
       "9               fo_order_approved_at                 df_orders   \n",
       "10   fo_order_delivered_carrier_date                 df_orders   \n",
       "11  fo_order_delivered_customer_date                 df_orders   \n",
       "12  fo_order_estimated_delivery_date                 df_orders   \n",
       "13                     fo_is_daytime                Calculated   \n",
       "14                     fo_is_weekday                Calculated   \n",
       "15                         frequency                Calculated   \n",
       "16                           recency                Calculated   \n",
       "17                          monetary                Calculated   \n",
       "18                         rfm_score                Calculated   \n",
       "19                          repeater                Calculated   \n",
       "20            fo_delivery_delay_days                Calculated   \n",
       "21                   fo_voucher_used                Calculated   \n",
       "22              fo_review_score_mean          df_order_reviews   \n",
       "23          fo_voucher_payment_value         df_order_payments   \n",
       "24          fo_product_category_name  df_product_category_name   \n",
       "25                  fo_payment_value         df_order_payments   \n",
       "\n",
       "                        description  \n",
       "0                                PK  \n",
       "1                                    \n",
       "2                                    \n",
       "3                                    \n",
       "4   1:in Sao Paulo, 0:non-Sao Paulo  \n",
       "5                                FK  \n",
       "6    FK (first order's customer_id)  \n",
       "7                                    \n",
       "8                                    \n",
       "9                                    \n",
       "10                                   \n",
       "11                                   \n",
       "12                                   \n",
       "13                    1:9-23, 0:0-8  \n",
       "14             1:weekday, 0:weekend  \n",
       "15                 number of orders  \n",
       "16   # of days after the last order  \n",
       "17             total payment amount  \n",
       "18             using k-means. (0-3)  \n",
       "19       1:repeater, 0:non-repeater  \n",
       "20               >0:delay, <0:ahead  \n",
       "21               1:used, 0:non-used  \n",
       "22                                   \n",
       "23                                   \n",
       "24                                   \n",
       "25                                   "
      ]
     },
     "execution_count": 2,
     "metadata": {},
     "output_type": "execute_result"
    }
   ],
   "source": [
    "# load json file\n",
    "description_json = json.load(open('df_train_description.json', 'r'))\n",
    "description_json_df = pd.DataFrame(description_json)\n",
    "description_json_df"
   ]
  },
  {
   "cell_type": "code",
   "execution_count": 3,
   "metadata": {},
   "outputs": [],
   "source": [
    "df_customers = pd.read_csv('../datasets/olist_customers_dataset.csv')\n",
    "df_order_items = pd.read_csv('../datasets/olist_order_items_dataset.csv')\n",
    "df_order_payments = pd.read_csv('../datasets/olist_order_payments_dataset.csv')\n",
    "df_orders = pd.read_csv('../datasets/olist_orders_dataset.csv')\n",
    "df_order_reviews = pd.read_csv('../datasets/olist_order_reviews_dataset.csv')\n",
    "df_products = pd.read_csv('../datasets/olist_products_dataset.csv')\n",
    "df_product_category_name_translation = pd.read_csv('../datasets/product_category_name_translation.csv')\n"
   ]
  },
  {
   "cell_type": "code",
   "execution_count": 4,
   "metadata": {},
   "outputs": [
    {
     "name": "stdout",
     "output_type": "stream",
     "text": [
      "df_orders: (99441, 8)\n",
      "df_customers: (99441, 5)\n",
      "df: (99441, 12)\n"
     ]
    }
   ],
   "source": [
    "## Merge 2 datasets\n",
    "merged_df = pd.merge(df_orders, df_customers, on='customer_id')\n",
    "    ## Memo: 'customer_id' is foreign key, while 'customer_unique_id' is primary key\n",
    "\n",
    "print(f\"df_orders: {df_orders.shape}\")\n",
    "print(f\"df_customers: {df_customers.shape}\")\n",
    "print(f\"df: {merged_df.shape}\")"
   ]
  },
  {
   "cell_type": "code",
   "execution_count": 5,
   "metadata": {},
   "outputs": [
    {
     "data": {
      "text/plain": [
       "order_id                         object\n",
       "customer_id                      object\n",
       "order_status                     object\n",
       "order_purchase_timestamp         object\n",
       "order_approved_at                object\n",
       "order_delivered_carrier_date     object\n",
       "order_delivered_customer_date    object\n",
       "order_estimated_delivery_date    object\n",
       "customer_unique_id               object\n",
       "customer_zip_code_prefix          int64\n",
       "customer_city                    object\n",
       "customer_state                   object\n",
       "dtype: object"
      ]
     },
     "execution_count": 5,
     "metadata": {},
     "output_type": "execute_result"
    }
   ],
   "source": [
    "## datatypes for each column\n",
    "merged_df.dtypes\n",
    "\n",
    "## some data objects should be converted to datetime"
   ]
  },
  {
   "cell_type": "code",
   "execution_count": 6,
   "metadata": {},
   "outputs": [],
   "source": [
    "## Convert data object to datetime\n",
    "df_columns = [\n",
    "  'order_purchase_timestamp',\n",
    "  'order_approved_at',\n",
    "  'order_delivered_carrier_date',\n",
    "  'order_delivered_customer_date',\n",
    "  'order_estimated_delivery_date'\n",
    "]\n",
    "\n",
    "for col in df_columns:\n",
    "  merged_df[col] = pd.to_datetime(merged_df[col], format='%Y-%m-%d %H:%M:%S')"
   ]
  },
  {
   "cell_type": "markdown",
   "metadata": {},
   "source": [
    "### Check the frequecy distribution"
   ]
  },
  {
   "cell_type": "code",
   "execution_count": 7,
   "metadata": {},
   "outputs": [
    {
     "name": "stdout",
     "output_type": "stream",
     "text": [
      "2997 customers have ordered more than once.\n",
      "Only 3.1187562437562435% of customers have ordered more than once.\n"
     ]
    },
    {
     "data": {
      "text/html": [
       "<div>\n",
       "<style scoped>\n",
       "    .dataframe tbody tr th:only-of-type {\n",
       "        vertical-align: middle;\n",
       "    }\n",
       "\n",
       "    .dataframe tbody tr th {\n",
       "        vertical-align: top;\n",
       "    }\n",
       "\n",
       "    .dataframe thead th {\n",
       "        text-align: right;\n",
       "    }\n",
       "</style>\n",
       "<table border=\"1\" class=\"dataframe\">\n",
       "  <thead>\n",
       "    <tr style=\"text-align: right;\">\n",
       "      <th></th>\n",
       "      <th>frequency</th>\n",
       "    </tr>\n",
       "  </thead>\n",
       "  <tbody>\n",
       "    <tr>\n",
       "      <th>count</th>\n",
       "      <td>96096.000000</td>\n",
       "    </tr>\n",
       "    <tr>\n",
       "      <th>mean</th>\n",
       "      <td>1.034809</td>\n",
       "    </tr>\n",
       "    <tr>\n",
       "      <th>std</th>\n",
       "      <td>0.214384</td>\n",
       "    </tr>\n",
       "    <tr>\n",
       "      <th>min</th>\n",
       "      <td>1.000000</td>\n",
       "    </tr>\n",
       "    <tr>\n",
       "      <th>25%</th>\n",
       "      <td>1.000000</td>\n",
       "    </tr>\n",
       "    <tr>\n",
       "      <th>50%</th>\n",
       "      <td>1.000000</td>\n",
       "    </tr>\n",
       "    <tr>\n",
       "      <th>75%</th>\n",
       "      <td>1.000000</td>\n",
       "    </tr>\n",
       "    <tr>\n",
       "      <th>max</th>\n",
       "      <td>17.000000</td>\n",
       "    </tr>\n",
       "  </tbody>\n",
       "</table>\n",
       "</div>"
      ],
      "text/plain": [
       "          frequency\n",
       "count  96096.000000\n",
       "mean       1.034809\n",
       "std        0.214384\n",
       "min        1.000000\n",
       "25%        1.000000\n",
       "50%        1.000000\n",
       "75%        1.000000\n",
       "max       17.000000"
      ]
     },
     "execution_count": 7,
     "metadata": {},
     "output_type": "execute_result"
    }
   ],
   "source": [
    "df_frequency = merged_df.groupby('customer_unique_id')['order_id'].nunique().reset_index()\n",
    "df_frequency.columns = [\"customer_unique_id\", \"frequency\"]\n",
    "\n",
    "repeater_num = df_frequency[df_frequency['frequency'] > 1].shape[0]\n",
    "repeater_ratio = repeater_num / df_frequency.shape[0] * 100\n",
    "print(f\"{repeater_num} customers have ordered more than once.\")\n",
    "print(f\"Only {repeater_ratio}% of customers have ordered more than once.\")\n",
    "df_frequency.describe()"
   ]
  },
  {
   "cell_type": "code",
   "execution_count": 8,
   "metadata": {},
   "outputs": [
    {
     "name": "stdout",
     "output_type": "stream",
     "text": [
      "df_frequency: (96096, 3)\n",
      "first_purchase_df: (96096, 12)\n",
      "df: (96096, 14)\n"
     ]
    }
   ],
   "source": [
    "## Create label, called repeater\n",
    "df_frequency['repeater'] = df_frequency['frequency'].apply(lambda x: 1 if x > 1 else 0)\n",
    "df_frequency['repeater'] = df_frequency['repeater'].astype('int8')\n",
    "    ## 1: repeater, 0: non-repeater\n",
    "\n",
    "## get first_purchase_df\n",
    "idx = merged_df.groupby('customer_unique_id')['order_purchase_timestamp'].idxmin()\n",
    "first_purchase_df = merged_df.loc[idx]\n",
    "\n",
    "## Merge\n",
    "print(f\"df_frequency: {df_frequency.shape}\")\n",
    "print(f\"first_purchase_df: {first_purchase_df.shape}\")\n",
    "df = pd.merge(df_frequency, first_purchase_df, on='customer_unique_id', how='inner')\n",
    "print(f\"df: {df.shape}\")\n",
    "DF_ROW_COUNT = df.shape[0]\n",
    "\n",
    "df.head()\n",
    "\n",
    "df.rename({\n",
    "    'order_id': 'fo_order_id',\n",
    "    'customer_id': 'fo_customer_id',\n",
    "    'order_status': 'fo_order_status',\n",
    "    'order_purchase_timestamp': 'fo_order_purchase_timestamp',\n",
    "    'order_approved_at': 'fo_order_approved_at',\n",
    "    'order_delivered_carrier_date': 'fo_order_delivered_carrier_date',\n",
    "    'order_delivered_customer_date': 'fo_order_delivered_customer_date',\n",
    "    'order_estimated_delivery_date': 'fo_order_estimated_delivery_date'\n",
    "}, axis=1, inplace=True)"
   ]
  },
  {
   "cell_type": "code",
   "execution_count": 9,
   "metadata": {},
   "outputs": [],
   "source": [
    "## Check whether merge was successful as expected\n",
    "\n",
    "def test_merge_results(before_df_shape, after_df, added_columns_num):\n",
    "  after_df_shape = after_df.shape\n",
    "  print(f\"after_df_shape: {after_df_shape}\")\n",
    "\n",
    "  if after_df_shape[0] != DF_ROW_COUNT:\n",
    "    raise ValueError(f\"Error: Row count changed after merge. Row count should be {DF_ROW_COUNT}, but we got {after_df_shape[0]}\")\n",
    "\n",
    "  expected_cols_after = before_df_shape[1] + added_columns_num\n",
    "  if after_df_shape[1] != expected_cols_after:\n",
    "    raise ValueError(f\"Error: Column count after merge is incorrect. Expected: {expected_cols_after}, Got: {after_df_shape[1]}\")\n",
    "\n",
    "  print(\"Merge test passed successfully.\")\n",
    "  return True\n"
   ]
  },
  {
   "cell_type": "code",
   "execution_count": 10,
   "metadata": {},
   "outputs": [
    {
     "name": "stdout",
     "output_type": "stream",
     "text": [
      "df: (96096, 14)\n"
     ]
    },
    {
     "data": {
      "text/html": [
       "<div>\n",
       "<style scoped>\n",
       "    .dataframe tbody tr th:only-of-type {\n",
       "        vertical-align: middle;\n",
       "    }\n",
       "\n",
       "    .dataframe tbody tr th {\n",
       "        vertical-align: top;\n",
       "    }\n",
       "\n",
       "    .dataframe thead th {\n",
       "        text-align: right;\n",
       "    }\n",
       "</style>\n",
       "<table border=\"1\" class=\"dataframe\">\n",
       "  <thead>\n",
       "    <tr style=\"text-align: right;\">\n",
       "      <th></th>\n",
       "      <th>customer_unique_id</th>\n",
       "      <th>frequency</th>\n",
       "      <th>repeater</th>\n",
       "      <th>fo_order_id</th>\n",
       "      <th>fo_customer_id</th>\n",
       "      <th>fo_order_status</th>\n",
       "      <th>fo_order_purchase_timestamp</th>\n",
       "      <th>fo_order_approved_at</th>\n",
       "      <th>fo_order_delivered_carrier_date</th>\n",
       "      <th>fo_order_delivered_customer_date</th>\n",
       "      <th>fo_order_estimated_delivery_date</th>\n",
       "      <th>customer_zip_code_prefix</th>\n",
       "      <th>customer_city</th>\n",
       "      <th>customer_state</th>\n",
       "    </tr>\n",
       "  </thead>\n",
       "  <tbody>\n",
       "    <tr>\n",
       "      <th>0</th>\n",
       "      <td>0000366f3b9a7992bf8c76cfdf3221e2</td>\n",
       "      <td>1</td>\n",
       "      <td>0</td>\n",
       "      <td>e22acc9c116caa3f2b7121bbb380d08e</td>\n",
       "      <td>fadbb3709178fc513abc1b2670aa1ad2</td>\n",
       "      <td>delivered</td>\n",
       "      <td>2018-05-10 10:56:27</td>\n",
       "      <td>2018-05-10 11:11:18</td>\n",
       "      <td>2018-05-12 08:18:00</td>\n",
       "      <td>2018-05-16 20:48:37</td>\n",
       "      <td>2018-05-21</td>\n",
       "      <td>7787</td>\n",
       "      <td>cajamar</td>\n",
       "      <td>SP</td>\n",
       "    </tr>\n",
       "    <tr>\n",
       "      <th>1</th>\n",
       "      <td>0000b849f77a49e4a4ce2b2a4ca5be3f</td>\n",
       "      <td>1</td>\n",
       "      <td>0</td>\n",
       "      <td>3594e05a005ac4d06a72673270ef9ec9</td>\n",
       "      <td>4cb282e167ae9234755102258dd52ee8</td>\n",
       "      <td>delivered</td>\n",
       "      <td>2018-05-07 11:11:27</td>\n",
       "      <td>2018-05-07 18:25:44</td>\n",
       "      <td>2018-05-09 12:18:00</td>\n",
       "      <td>2018-05-10 18:02:42</td>\n",
       "      <td>2018-05-15</td>\n",
       "      <td>6053</td>\n",
       "      <td>osasco</td>\n",
       "      <td>SP</td>\n",
       "    </tr>\n",
       "    <tr>\n",
       "      <th>2</th>\n",
       "      <td>0000f46a3911fa3c0805444483337064</td>\n",
       "      <td>1</td>\n",
       "      <td>0</td>\n",
       "      <td>b33ec3b699337181488304f362a6b734</td>\n",
       "      <td>9b3932a6253894a02c1df9d19004239f</td>\n",
       "      <td>delivered</td>\n",
       "      <td>2017-03-10 21:05:03</td>\n",
       "      <td>2017-03-10 21:05:03</td>\n",
       "      <td>2017-03-13 12:58:30</td>\n",
       "      <td>2017-04-05 14:38:47</td>\n",
       "      <td>2017-04-07</td>\n",
       "      <td>88115</td>\n",
       "      <td>sao jose</td>\n",
       "      <td>SC</td>\n",
       "    </tr>\n",
       "    <tr>\n",
       "      <th>3</th>\n",
       "      <td>0000f6ccb0745a6a4b88665a16c9f078</td>\n",
       "      <td>1</td>\n",
       "      <td>0</td>\n",
       "      <td>41272756ecddd9a9ed0180413cc22fb6</td>\n",
       "      <td>914991f0c02ef0843c0e7010c819d642</td>\n",
       "      <td>delivered</td>\n",
       "      <td>2017-10-12 20:29:41</td>\n",
       "      <td>2017-10-12 20:49:17</td>\n",
       "      <td>2017-10-13 20:08:19</td>\n",
       "      <td>2017-11-01 21:23:05</td>\n",
       "      <td>2017-11-13</td>\n",
       "      <td>66812</td>\n",
       "      <td>belem</td>\n",
       "      <td>PA</td>\n",
       "    </tr>\n",
       "    <tr>\n",
       "      <th>4</th>\n",
       "      <td>0004aac84e0df4da2b147fca70cf8255</td>\n",
       "      <td>1</td>\n",
       "      <td>0</td>\n",
       "      <td>d957021f1127559cd947b62533f484f7</td>\n",
       "      <td>47227568b10f5f58a524a75507e6992c</td>\n",
       "      <td>delivered</td>\n",
       "      <td>2017-11-14 19:45:42</td>\n",
       "      <td>2017-11-14 20:06:52</td>\n",
       "      <td>2017-11-16 19:52:10</td>\n",
       "      <td>2017-11-27 23:08:56</td>\n",
       "      <td>2017-12-05</td>\n",
       "      <td>18040</td>\n",
       "      <td>sorocaba</td>\n",
       "      <td>SP</td>\n",
       "    </tr>\n",
       "  </tbody>\n",
       "</table>\n",
       "</div>"
      ],
      "text/plain": [
       "                 customer_unique_id  frequency  repeater  \\\n",
       "0  0000366f3b9a7992bf8c76cfdf3221e2          1         0   \n",
       "1  0000b849f77a49e4a4ce2b2a4ca5be3f          1         0   \n",
       "2  0000f46a3911fa3c0805444483337064          1         0   \n",
       "3  0000f6ccb0745a6a4b88665a16c9f078          1         0   \n",
       "4  0004aac84e0df4da2b147fca70cf8255          1         0   \n",
       "\n",
       "                        fo_order_id                    fo_customer_id  \\\n",
       "0  e22acc9c116caa3f2b7121bbb380d08e  fadbb3709178fc513abc1b2670aa1ad2   \n",
       "1  3594e05a005ac4d06a72673270ef9ec9  4cb282e167ae9234755102258dd52ee8   \n",
       "2  b33ec3b699337181488304f362a6b734  9b3932a6253894a02c1df9d19004239f   \n",
       "3  41272756ecddd9a9ed0180413cc22fb6  914991f0c02ef0843c0e7010c819d642   \n",
       "4  d957021f1127559cd947b62533f484f7  47227568b10f5f58a524a75507e6992c   \n",
       "\n",
       "  fo_order_status fo_order_purchase_timestamp fo_order_approved_at  \\\n",
       "0       delivered         2018-05-10 10:56:27  2018-05-10 11:11:18   \n",
       "1       delivered         2018-05-07 11:11:27  2018-05-07 18:25:44   \n",
       "2       delivered         2017-03-10 21:05:03  2017-03-10 21:05:03   \n",
       "3       delivered         2017-10-12 20:29:41  2017-10-12 20:49:17   \n",
       "4       delivered         2017-11-14 19:45:42  2017-11-14 20:06:52   \n",
       "\n",
       "  fo_order_delivered_carrier_date fo_order_delivered_customer_date  \\\n",
       "0             2018-05-12 08:18:00              2018-05-16 20:48:37   \n",
       "1             2018-05-09 12:18:00              2018-05-10 18:02:42   \n",
       "2             2017-03-13 12:58:30              2017-04-05 14:38:47   \n",
       "3             2017-10-13 20:08:19              2017-11-01 21:23:05   \n",
       "4             2017-11-16 19:52:10              2017-11-27 23:08:56   \n",
       "\n",
       "  fo_order_estimated_delivery_date  customer_zip_code_prefix customer_city  \\\n",
       "0                       2018-05-21                      7787       cajamar   \n",
       "1                       2018-05-15                      6053        osasco   \n",
       "2                       2017-04-07                     88115      sao jose   \n",
       "3                       2017-11-13                     66812         belem   \n",
       "4                       2017-12-05                     18040      sorocaba   \n",
       "\n",
       "  customer_state  \n",
       "0             SP  \n",
       "1             SP  \n",
       "2             SC  \n",
       "3             PA  \n",
       "4             SP  "
      ]
     },
     "execution_count": 10,
     "metadata": {},
     "output_type": "execute_result"
    }
   ],
   "source": [
    "print(f\"df: {df.shape}\")\n",
    "df.head()"
   ]
  },
  {
   "cell_type": "markdown",
   "metadata": {},
   "source": [
    "## Feature Engineering\n",
    "Let's get started"
   ]
  },
  {
   "cell_type": "markdown",
   "metadata": {},
   "source": [
    "### Recency\n"
   ]
  },
  {
   "cell_type": "code",
   "execution_count": 11,
   "metadata": {},
   "outputs": [
    {
     "name": "stdout",
     "output_type": "stream",
     "text": [
      "after_df_shape: (96096, 15)\n",
      "Merge test passed successfully.\n"
     ]
    },
    {
     "data": {
      "text/plain": [
       "True"
      ]
     },
     "execution_count": 11,
     "metadata": {},
     "output_type": "execute_result"
    }
   ],
   "source": [
    "## Get the latest purchase date for each customer\n",
    "df_latest_purchase = merged_df.groupby('customer_unique_id')['order_purchase_timestamp'].max().reset_index()\n",
    "df_latest_purchase.columns = ['customer_unique_id', 'latest_purchase_date']\n",
    "## Get Recency\n",
    "df_latest_purchase['recency'] = (\n",
    "    df_latest_purchase['latest_purchase_date'].max() - df_latest_purchase['latest_purchase_date']\n",
    ").dt.days\n",
    "df_latest_purchase.drop('latest_purchase_date', axis=1, inplace=True)\n",
    "\n",
    "## Merge\n",
    "df_shape = df.shape\n",
    "df = pd.merge(\n",
    "    df,\n",
    "    df_latest_purchase,\n",
    "    on='customer_unique_id', how='inner'\n",
    ")\n",
    "test_merge_results(df_shape, df, 1)"
   ]
  },
  {
   "cell_type": "markdown",
   "metadata": {},
   "source": [
    "### Monetary"
   ]
  },
  {
   "cell_type": "code",
   "execution_count": 12,
   "metadata": {},
   "outputs": [
    {
     "name": "stdout",
     "output_type": "stream",
     "text": [
      "after_df_shape: (96096, 16)\n",
      "Merge test passed successfully.\n"
     ]
    }
   ],
   "source": [
    "payment_values_per_order = df_order_payments.groupby('order_id')['payment_value'].sum().reset_index()\n",
    "\n",
    "df_tmp = pd.merge(\n",
    "    merged_df,\n",
    "    payment_values_per_order,\n",
    "    on='order_id', how='inner'\n",
    ")\n",
    "total_payment_per_customer = df_tmp.groupby('customer_unique_id')['payment_value'].sum().reset_index()\n",
    "\n",
    "df_shape = df.shape\n",
    "df = pd.merge(\n",
    "    df,\n",
    "    total_payment_per_customer,\n",
    "    on='customer_unique_id', how='left'\n",
    ")\n",
    "test_merge_results(df_shape, df, 1)\n",
    "\n",
    "df.rename({'payment_value': 'monetary'}, axis=1, inplace=True)\n",
    "df['monetary'].fillna(0, inplace=True)"
   ]
  },
  {
   "cell_type": "markdown",
   "metadata": {},
   "source": [
    "### RFM Score"
   ]
  },
  {
   "cell_type": "code",
   "execution_count": 13,
   "metadata": {},
   "outputs": [
    {
     "name": "stderr",
     "output_type": "stream",
     "text": [
      "/Users/yukiogawa/anaconda3/lib/python3.11/site-packages/sklearn/cluster/_kmeans.py:1412: FutureWarning: The default value of `n_init` will change from 10 to 'auto' in 1.4. Set the value of `n_init` explicitly to suppress the warning\n",
      "  super()._check_params_vs_input(X, default_n_init=10)\n"
     ]
    }
   ],
   "source": [
    "from sklearn.cluster import KMeans\n",
    "\n",
    "kmeans = KMeans(n_clusters=4, random_state=42)\n",
    "df['cluster'] = kmeans.fit_predict(df[['recency', 'frequency', 'monetary']])\n",
    "\n",
    "clusters_mean_monetary = df.groupby('cluster')['monetary'].mean().sort_values(ascending=True)\n",
    "cluster_mapping = {old: new for new, old in enumerate(clusters_mean_monetary.index)}\n",
    "\n",
    "df['rfm_score'] = df['cluster'].map(cluster_mapping)\n",
    "df.drop(columns=['cluster'], inplace=True)\n"
   ]
  },
  {
   "cell_type": "markdown",
   "metadata": {},
   "source": [
    "### Payment value of first order"
   ]
  },
  {
   "cell_type": "code",
   "execution_count": 14,
   "metadata": {},
   "outputs": [
    {
     "name": "stdout",
     "output_type": "stream",
     "text": [
      "after_df_shape: (96096, 18)\n",
      "Merge test passed successfully.\n"
     ]
    }
   ],
   "source": [
    "df_shape = df.shape\n",
    "df = pd.merge(\n",
    "    df,\n",
    "    payment_values_per_order,\n",
    "    left_on='fo_order_id', right_on='order_id',\n",
    "    how='left'\n",
    ")\n",
    "df.drop('order_id', axis=1, inplace=True)\n",
    "test_merge_results(df_shape, df, 1)\n",
    "df.rename({'payment_value': 'fo_payment_value'}, axis=1, inplace=True)"
   ]
  },
  {
   "cell_type": "markdown",
   "metadata": {},
   "source": [
    "### Create some columns from order_purchase_timestamp"
   ]
  },
  {
   "cell_type": "code",
   "execution_count": 15,
   "metadata": {},
   "outputs": [],
   "source": [
    "## Only meaningful features will be added to the df,\n",
    "## since creating meaningless columns is expected to result in poor accuracy of the clustering model,\n",
    "df_tmp = df.copy()\n",
    "df_tmp['order_purchase_year'] = df_tmp['fo_order_purchase_timestamp'].dt.year\n",
    "    ## Refected. because the time span is too short. 2016/09 ~ 2018/10.\n",
    "df_tmp['order_purchase_month'] = df_tmp['fo_order_purchase_timestamp'].dt.month\n",
    "    ## Refected. because the time span is too short. 2016/09 ~ 2018/10.\n",
    "df_tmp['order_purchase_day'] = df_tmp['fo_order_purchase_timestamp'].dt.day\n",
    "    ## Refected. because of the chart below\n",
    "df_tmp['order_purchase_hour'] = df_tmp['fo_order_purchase_timestamp'].dt.hour\n",
    "    ## Accepted: The chart below shows that there is a difference in the number of orders between time of day.\n",
    "df_tmp['order_purchase_day_of_week'] = df_tmp['fo_order_purchase_timestamp'].dt.dayofweek\n",
    "    ## Accepted: Our EDA shows that there is a difference in the number of orders between weekdays and weekend.\n",
    "    ## Reference: https://dat490-marketing.streamlit.app/EDA_Overview#total-order-per-weekday\n",
    "    ## We create the column, called 'weekdays' for boolean label."
   ]
  },
  {
   "cell_type": "code",
   "execution_count": 16,
   "metadata": {},
   "outputs": [
    {
     "data": {
      "text/plain": [
       "<Axes: xlabel='order_purchase_day'>"
      ]
     },
     "execution_count": 16,
     "metadata": {},
     "output_type": "execute_result"
    },
    {
     "data": {
      "image/png": "[encoded data removed]",
      "text/plain": [
       "<Figure size 640x480 with 1 Axes>"
      ]
     },
     "metadata": {},
     "output_type": "display_data"
    }
   ],
   "source": [
    "df_tmp.groupby('order_purchase_day')['customer_unique_id'].count().plot(kind='bar')\n",
    "\n",
    "## 'order_purchase_day' is not meaningful."
   ]
  },
  {
   "cell_type": "code",
   "execution_count": 17,
   "metadata": {},
   "outputs": [
    {
     "data": {
      "text/plain": [
       "<Axes: xlabel='order_purchase_hour'>"
      ]
     },
     "execution_count": 17,
     "metadata": {},
     "output_type": "execute_result"
    },
    {
     "data": {
      "image/png": "[encoded data removed]",
      "text/plain": [
       "<Figure size 640x480 with 1 Axes>"
      ]
     },
     "metadata": {},
     "output_type": "display_data"
    }
   ],
   "source": [
    "df_tmp.groupby('order_purchase_hour')['customer_unique_id'].count().plot(kind='bar')\n",
    "\n",
    "## we cancategorize the time of day into 2 categories: is_daytime (9-23) or not (0-8)"
   ]
  },
  {
   "cell_type": "code",
   "execution_count": 18,
   "metadata": {},
   "outputs": [
    {
     "name": "stdout",
     "output_type": "stream",
     "text": [
      "after_df_shape: (96096, 20)\n",
      "Merge test passed successfully.\n"
     ]
    }
   ],
   "source": [
    "## add two columns\n",
    "df_tmp[\"is_daytime\"] = df_tmp[\"order_purchase_hour\"].apply(lambda x: 1 if 9 <= x <= 23 else 0)\n",
    "df_tmp['is_weekday'] = df_tmp['order_purchase_day_of_week'].apply(lambda x: 1 if x < 5 else 0)\n",
    "df_tmp[\"is_daytime\"] = df_tmp[\"is_daytime\"].astype('int8')\n",
    "df_tmp['is_weekday'] = df_tmp['is_weekday'].astype('int8')\n",
    "\n",
    "## merge\n",
    "df_shape = df.shape\n",
    "df = pd.merge(\n",
    "    df, df_tmp[['customer_unique_id', 'is_daytime', 'is_weekday']],\n",
    "    on='customer_unique_id', how='inner'\n",
    ")\n",
    "test_merge_results(df_shape, df, 2)\n",
    "\n",
    "df.rename({\n",
    "    'is_daytime': 'fo_is_daytime',\n",
    "    'is_weekday': 'fo_is_weekday'\n",
    "}, axis=1, inplace=True)\n"
   ]
  },
  {
   "cell_type": "markdown",
   "metadata": {},
   "source": [
    "### The first delivery delay"
   ]
  },
  {
   "cell_type": "code",
   "execution_count": 19,
   "metadata": {},
   "outputs": [
    {
     "data": {
      "text/html": [
       "<div>\n",
       "<style scoped>\n",
       "    .dataframe tbody tr th:only-of-type {\n",
       "        vertical-align: middle;\n",
       "    }\n",
       "\n",
       "    .dataframe tbody tr th {\n",
       "        vertical-align: top;\n",
       "    }\n",
       "\n",
       "    .dataframe thead th {\n",
       "        text-align: right;\n",
       "    }\n",
       "</style>\n",
       "<table border=\"1\" class=\"dataframe\">\n",
       "  <thead>\n",
       "    <tr style=\"text-align: right;\">\n",
       "      <th></th>\n",
       "      <th>count</th>\n",
       "      <th>mean</th>\n",
       "      <th>std</th>\n",
       "      <th>min</th>\n",
       "      <th>25%</th>\n",
       "      <th>50%</th>\n",
       "      <th>75%</th>\n",
       "      <th>max</th>\n",
       "    </tr>\n",
       "    <tr>\n",
       "      <th>repeater</th>\n",
       "      <th></th>\n",
       "      <th></th>\n",
       "      <th></th>\n",
       "      <th></th>\n",
       "      <th></th>\n",
       "      <th></th>\n",
       "      <th></th>\n",
       "      <th></th>\n",
       "    </tr>\n",
       "  </thead>\n",
       "  <tbody>\n",
       "    <tr>\n",
       "      <th>0</th>\n",
       "      <td>90377.0</td>\n",
       "      <td>-11.825420</td>\n",
       "      <td>10.207349</td>\n",
       "      <td>-147.0</td>\n",
       "      <td>-17.0</td>\n",
       "      <td>-12.0</td>\n",
       "      <td>-7.0</td>\n",
       "      <td>188.0</td>\n",
       "    </tr>\n",
       "    <tr>\n",
       "      <th>1</th>\n",
       "      <td>2874.0</td>\n",
       "      <td>-12.758525</td>\n",
       "      <td>9.593957</td>\n",
       "      <td>-78.0</td>\n",
       "      <td>-17.0</td>\n",
       "      <td>-13.0</td>\n",
       "      <td>-8.0</td>\n",
       "      <td>47.0</td>\n",
       "    </tr>\n",
       "  </tbody>\n",
       "</table>\n",
       "</div>"
      ],
      "text/plain": [
       "            count       mean        std    min   25%   50%  75%    max\n",
       "repeater                                                              \n",
       "0         90377.0 -11.825420  10.207349 -147.0 -17.0 -12.0 -7.0  188.0\n",
       "1          2874.0 -12.758525   9.593957  -78.0 -17.0 -13.0 -8.0   47.0"
      ]
     },
     "execution_count": 19,
     "metadata": {},
     "output_type": "execute_result"
    }
   ],
   "source": [
    "df['fo_delivery_delay_days'] = (df['fo_order_delivered_customer_date'] - df['fo_order_estimated_delivery_date']).dt.days\n",
    "    ## positive->delay, negative->ahead\n",
    "\n",
    "df.groupby('repeater')['fo_delivery_delay_days'].describe()"
   ]
  },
  {
   "cell_type": "code",
   "execution_count": 20,
   "metadata": {},
   "outputs": [
    {
     "name": "stderr",
     "output_type": "stream",
     "text": [
      "/Users/yukiogawa/anaconda3/lib/python3.11/site-packages/seaborn/_oldcore.py:1119: FutureWarning: use_inf_as_na option is deprecated and will be removed in a future version. Convert inf values to NaN before operating instead.\n",
      "  with pd.option_context('mode.use_inf_as_na', True):\n"
     ]
    },
    {
     "data": {
      "image/png": "[encoded data removed]",
      "text/plain": [
       "<Figure size 1200x600 with 1 Axes>"
      ]
     },
     "metadata": {},
     "output_type": "display_data"
    }
   ],
   "source": [
    "## histogram of delivery_delay_days grouped by repeater\n",
    "plt.figure(figsize=(12, 6))\n",
    "sns.histplot(data=df, x='fo_delivery_delay_days', hue='repeater', kde=True, bins=30)\n",
    "plt.title('Histogram of delivery_delay_days grouped by repeater')\n",
    "plt.show()\n"
   ]
  },
  {
   "cell_type": "markdown",
   "metadata": {},
   "source": [
    "- There are some outliers, but the distribution is almost same.\n",
    "- I'm surprised that the means are -11 days. It means that the delivery is faster than the estimated delivery date. Olist may have set an estimated delivery time with plenty of time to spare.\n",
    "- If we do the same thing for each product category, we would see differences in results. I'll leave it out as it is not pertinent to the purpose of this file, but it would be interesting to see"
   ]
  },
  {
   "cell_type": "markdown",
   "metadata": {},
   "source": [
    "### The first order's review score\n"
   ]
  },
  {
   "cell_type": "code",
   "execution_count": 21,
   "metadata": {},
   "outputs": [
    {
     "name": "stdout",
     "output_type": "stream",
     "text": [
      "after_df_shape: (96096, 22)\n",
      "Merge test passed successfully.\n",
      "Number of those who have not reviewed: \n"
     ]
    },
    {
     "data": {
      "text/plain": [
       "repeater\n",
       "0    707\n",
       "1     30\n",
       "Name: fo_review_score_mean, dtype: int64"
      ]
     },
     "execution_count": 21,
     "metadata": {},
     "output_type": "execute_result"
    }
   ],
   "source": [
    "## Merge with df_order_reviews\n",
    "\n",
    "## An order can have multiple reviews, so we take the average of review scores\n",
    "df_tmp = df_order_reviews.groupby('order_id')['review_score'].mean().reset_index()\n",
    "df_shape = df.shape\n",
    "df = pd.merge(\n",
    "    df,\n",
    "    df_tmp,\n",
    "    left_on='fo_order_id', right_on=\"order_id\",\n",
    "    how='left'\n",
    ")\n",
    "df.drop('order_id', axis=1, inplace=True)\n",
    "test_merge_results(df_shape, df, 1)\n",
    "\n",
    "df.rename({\n",
    "    'review_score': 'fo_review_score_mean',\n",
    "}, axis=1, inplace=True)\n",
    "\n",
    "## Check missing values of review_score grouped by repeater\n",
    "print(\"Number of those who have not reviewed: \")\n",
    "df.groupby('repeater')['fo_review_score_mean'].apply(lambda x: x.isnull().sum())"
   ]
  },
  {
   "cell_type": "code",
   "execution_count": 22,
   "metadata": {},
   "outputs": [
    {
     "data": {
      "text/html": [
       "<div>\n",
       "<style scoped>\n",
       "    .dataframe tbody tr th:only-of-type {\n",
       "        vertical-align: middle;\n",
       "    }\n",
       "\n",
       "    .dataframe tbody tr th {\n",
       "        vertical-align: top;\n",
       "    }\n",
       "\n",
       "    .dataframe thead th {\n",
       "        text-align: right;\n",
       "    }\n",
       "</style>\n",
       "<table border=\"1\" class=\"dataframe\">\n",
       "  <thead>\n",
       "    <tr style=\"text-align: right;\">\n",
       "      <th></th>\n",
       "      <th>count</th>\n",
       "      <th>mean</th>\n",
       "      <th>std</th>\n",
       "      <th>min</th>\n",
       "      <th>25%</th>\n",
       "      <th>50%</th>\n",
       "      <th>75%</th>\n",
       "      <th>max</th>\n",
       "    </tr>\n",
       "    <tr>\n",
       "      <th>repeater</th>\n",
       "      <th></th>\n",
       "      <th></th>\n",
       "      <th></th>\n",
       "      <th></th>\n",
       "      <th></th>\n",
       "      <th></th>\n",
       "      <th></th>\n",
       "      <th></th>\n",
       "    </tr>\n",
       "  </thead>\n",
       "  <tbody>\n",
       "    <tr>\n",
       "      <th>0</th>\n",
       "      <td>92392.0</td>\n",
       "      <td>4.083979</td>\n",
       "      <td>1.347447</td>\n",
       "      <td>1.0</td>\n",
       "      <td>4.0</td>\n",
       "      <td>5.0</td>\n",
       "      <td>5.0</td>\n",
       "      <td>5.0</td>\n",
       "    </tr>\n",
       "    <tr>\n",
       "      <th>1</th>\n",
       "      <td>2967.0</td>\n",
       "      <td>4.107853</td>\n",
       "      <td>1.340784</td>\n",
       "      <td>1.0</td>\n",
       "      <td>4.0</td>\n",
       "      <td>5.0</td>\n",
       "      <td>5.0</td>\n",
       "      <td>5.0</td>\n",
       "    </tr>\n",
       "  </tbody>\n",
       "</table>\n",
       "</div>"
      ],
      "text/plain": [
       "            count      mean       std  min  25%  50%  75%  max\n",
       "repeater                                                      \n",
       "0         92392.0  4.083979  1.347447  1.0  4.0  5.0  5.0  5.0\n",
       "1          2967.0  4.107853  1.340784  1.0  4.0  5.0  5.0  5.0"
      ]
     },
     "execution_count": 22,
     "metadata": {},
     "output_type": "execute_result"
    }
   ],
   "source": [
    "df.groupby('repeater')['fo_review_score_mean'].describe()"
   ]
  },
  {
   "cell_type": "code",
   "execution_count": 23,
   "metadata": {},
   "outputs": [
    {
     "data": {
      "image/png": "[encoded data removed]",
      "text/plain": [
       "<Figure size 640x480 with 1 Axes>"
      ]
     },
     "metadata": {},
     "output_type": "display_data"
    }
   ],
   "source": [
    "## histogram of review_score grouped by repeater\n",
    "score_distribution = df.groupby(['repeater', 'fo_review_score_mean']).size().unstack(fill_value=0)\n",
    "score_percentage = score_distribution.divide(score_distribution.sum(axis=1), axis=0) * 100\n",
    "\n",
    "ax = score_percentage.plot(kind='bar', stacked=True)\n",
    "plt.title('Percentage of Review Scores for Repeater or Non-Repeater')\n",
    "plt.xlabel('Repeater Status')\n",
    "plt.ylabel('Percentage')\n",
    "plt.xticks(rotation=0)\n",
    "plt.legend(title='Review Score', bbox_to_anchor=(1.05, 1), loc='upper left')\n",
    "plt.tight_layout()\n",
    "\n",
    "for p in ax.patches:\n",
    "    width, height = p.get_width(), p.get_height()\n",
    "    x, y = p.get_xy()\n",
    "    if height > 0:\n",
    "        ax.text(x + width/2,\n",
    "                y + height/2,\n",
    "                f\"{height:.1f}%\",\n",
    "                ha='center',\n",
    "                va='center')\n",
    "plt.show()"
   ]
  },
  {
   "cell_type": "markdown",
   "metadata": {},
   "source": [
    "- There are no difference of distribution between repeaters and non-repeaters.\n",
    "- Future work: emotional analysis of the review text"
   ]
  },
  {
   "cell_type": "markdown",
   "metadata": {},
   "source": [
    "### Does Customer use promotion for the first order?"
   ]
  },
  {
   "cell_type": "code",
   "execution_count": 24,
   "metadata": {},
   "outputs": [
    {
     "data": {
      "text/html": [
       "<div>\n",
       "<style scoped>\n",
       "    .dataframe tbody tr th:only-of-type {\n",
       "        vertical-align: middle;\n",
       "    }\n",
       "\n",
       "    .dataframe tbody tr th {\n",
       "        vertical-align: top;\n",
       "    }\n",
       "\n",
       "    .dataframe thead th {\n",
       "        text-align: right;\n",
       "    }\n",
       "</style>\n",
       "<table border=\"1\" class=\"dataframe\">\n",
       "  <thead>\n",
       "    <tr style=\"text-align: right;\">\n",
       "      <th></th>\n",
       "      <th>voucher_payment_value</th>\n",
       "    </tr>\n",
       "  </thead>\n",
       "  <tbody>\n",
       "    <tr>\n",
       "      <th>count</th>\n",
       "      <td>5775.000000</td>\n",
       "    </tr>\n",
       "    <tr>\n",
       "      <th>mean</th>\n",
       "      <td>65.703354</td>\n",
       "    </tr>\n",
       "    <tr>\n",
       "      <th>std</th>\n",
       "      <td>115.519185</td>\n",
       "    </tr>\n",
       "    <tr>\n",
       "      <th>min</th>\n",
       "      <td>0.000000</td>\n",
       "    </tr>\n",
       "    <tr>\n",
       "      <th>25%</th>\n",
       "      <td>18.035000</td>\n",
       "    </tr>\n",
       "    <tr>\n",
       "      <th>50%</th>\n",
       "      <td>39.280000</td>\n",
       "    </tr>\n",
       "    <tr>\n",
       "      <th>75%</th>\n",
       "      <td>80.000000</td>\n",
       "    </tr>\n",
       "    <tr>\n",
       "      <th>max</th>\n",
       "      <td>3184.340000</td>\n",
       "    </tr>\n",
       "  </tbody>\n",
       "</table>\n",
       "</div>"
      ],
      "text/plain": [
       "       voucher_payment_value\n",
       "count            5775.000000\n",
       "mean               65.703354\n",
       "std               115.519185\n",
       "min                 0.000000\n",
       "25%                18.035000\n",
       "50%                39.280000\n",
       "75%                80.000000\n",
       "max              3184.340000"
      ]
     },
     "execution_count": 24,
     "metadata": {},
     "output_type": "execute_result"
    }
   ],
   "source": [
    "df_voucher = df_order_payments[df_order_payments['payment_type'] == 'voucher']\n",
    "df_voucher = df_voucher[['order_id', 'payment_value']]\n",
    "df_voucher.rename(columns={'payment_value': 'voucher_payment_value'}, inplace=True)\n",
    "df_voucher.describe()"
   ]
  },
  {
   "cell_type": "code",
   "execution_count": 25,
   "metadata": {},
   "outputs": [
    {
     "name": "stdout",
     "output_type": "stream",
     "text": [
      "after_df_shape: (96096, 23)\n",
      "Merge test passed successfully.\n"
     ]
    },
    {
     "data": {
      "text/html": [
       "<div>\n",
       "<style scoped>\n",
       "    .dataframe tbody tr th:only-of-type {\n",
       "        vertical-align: middle;\n",
       "    }\n",
       "\n",
       "    .dataframe tbody tr th {\n",
       "        vertical-align: top;\n",
       "    }\n",
       "\n",
       "    .dataframe thead th {\n",
       "        text-align: right;\n",
       "    }\n",
       "</style>\n",
       "<table border=\"1\" class=\"dataframe\">\n",
       "  <thead>\n",
       "    <tr style=\"text-align: right;\">\n",
       "      <th>fo_voucher_used</th>\n",
       "      <th>1</th>\n",
       "    </tr>\n",
       "    <tr>\n",
       "      <th>repeater</th>\n",
       "      <th></th>\n",
       "    </tr>\n",
       "  </thead>\n",
       "  <tbody>\n",
       "    <tr>\n",
       "      <th>0</th>\n",
       "      <td>93099</td>\n",
       "    </tr>\n",
       "    <tr>\n",
       "      <th>1</th>\n",
       "      <td>2997</td>\n",
       "    </tr>\n",
       "  </tbody>\n",
       "</table>\n",
       "</div>"
      ],
      "text/plain": [
       "fo_voucher_used      1\n",
       "repeater              \n",
       "0                93099\n",
       "1                 2997"
      ]
     },
     "execution_count": 25,
     "metadata": {},
     "output_type": "execute_result"
    }
   ],
   "source": [
    "## Merge with df_voucher\n",
    "## An order can have multiple voucher payments, so we sum them up\n",
    "df_voucher = df_voucher.groupby('order_id')['voucher_payment_value'].sum().reset_index()\n",
    "df_shape = df.shape\n",
    "df = pd.merge(\n",
    "    df, df_voucher,\n",
    "    left_on='fo_order_id', right_on='order_id',\n",
    "    how='left'\n",
    ")\n",
    "df['voucher_payment_value'].fillna(0, inplace=True)\n",
    "df.drop('order_id', axis=1, inplace=True)\n",
    "test_merge_results(df_shape, df, 1)\n",
    "\n",
    "df.rename({\n",
    "    'voucher_payment_value': 'fo_voucher_payment_value'\n",
    "}, axis=1, inplace=True)\n",
    "\n",
    "## Create a new column, called voucher_used\n",
    "df['fo_voucher_used'] = df['fo_voucher_payment_value'].apply(lambda x: 0 if np.isnan(x) else 1)\n",
    "df['fo_voucher_used'] = df['fo_voucher_used'].astype('int8')\n",
    "    ## 1: used, 0: not used\n",
    "df.groupby('repeater')['fo_voucher_used'].value_counts().unstack(fill_value=0)\n"
   ]
  },
  {
   "cell_type": "code",
   "execution_count": 26,
   "metadata": {},
   "outputs": [
    {
     "data": {
      "text/html": [
       "<div>\n",
       "<style scoped>\n",
       "    .dataframe tbody tr th:only-of-type {\n",
       "        vertical-align: middle;\n",
       "    }\n",
       "\n",
       "    .dataframe tbody tr th {\n",
       "        vertical-align: top;\n",
       "    }\n",
       "\n",
       "    .dataframe thead th {\n",
       "        text-align: right;\n",
       "    }\n",
       "</style>\n",
       "<table border=\"1\" class=\"dataframe\">\n",
       "  <thead>\n",
       "    <tr style=\"text-align: right;\">\n",
       "      <th>fo_voucher_used</th>\n",
       "      <th>1</th>\n",
       "    </tr>\n",
       "    <tr>\n",
       "      <th>repeater</th>\n",
       "      <th></th>\n",
       "    </tr>\n",
       "  </thead>\n",
       "  <tbody>\n",
       "    <tr>\n",
       "      <th>0</th>\n",
       "      <td>100.0</td>\n",
       "    </tr>\n",
       "    <tr>\n",
       "      <th>1</th>\n",
       "      <td>100.0</td>\n",
       "    </tr>\n",
       "  </tbody>\n",
       "</table>\n",
       "</div>"
      ],
      "text/plain": [
       "fo_voucher_used      1\n",
       "repeater              \n",
       "0                100.0\n",
       "1                100.0"
      ]
     },
     "execution_count": 26,
     "metadata": {},
     "output_type": "execute_result"
    }
   ],
   "source": [
    "## Calculate the percentage of voucher_used grouped by repeater\n",
    "voucher_counts = df.groupby('repeater')['fo_voucher_used'].value_counts().unstack(fill_value=0)\n",
    "voucher_percentages = voucher_counts.div(voucher_counts.sum(axis=1), axis=0) * 100\n",
    "voucher_percentages"
   ]
  },
  {
   "cell_type": "code",
   "execution_count": 27,
   "metadata": {},
   "outputs": [
    {
     "data": {
      "text/html": [
       "<div>\n",
       "<style scoped>\n",
       "    .dataframe tbody tr th:only-of-type {\n",
       "        vertical-align: middle;\n",
       "    }\n",
       "\n",
       "    .dataframe tbody tr th {\n",
       "        vertical-align: top;\n",
       "    }\n",
       "\n",
       "    .dataframe thead th {\n",
       "        text-align: right;\n",
       "    }\n",
       "</style>\n",
       "<table border=\"1\" class=\"dataframe\">\n",
       "  <thead>\n",
       "    <tr style=\"text-align: right;\">\n",
       "      <th></th>\n",
       "      <th>count</th>\n",
       "      <th>mean</th>\n",
       "      <th>std</th>\n",
       "      <th>min</th>\n",
       "      <th>25%</th>\n",
       "      <th>50%</th>\n",
       "      <th>75%</th>\n",
       "      <th>max</th>\n",
       "    </tr>\n",
       "    <tr>\n",
       "      <th>repeater</th>\n",
       "      <th></th>\n",
       "      <th></th>\n",
       "      <th></th>\n",
       "      <th></th>\n",
       "      <th></th>\n",
       "      <th></th>\n",
       "      <th></th>\n",
       "      <th></th>\n",
       "    </tr>\n",
       "  </thead>\n",
       "  <tbody>\n",
       "    <tr>\n",
       "      <th>0</th>\n",
       "      <td>93099.0</td>\n",
       "      <td>3.617372</td>\n",
       "      <td>30.678880</td>\n",
       "      <td>0.0</td>\n",
       "      <td>0.0</td>\n",
       "      <td>0.0</td>\n",
       "      <td>0.0</td>\n",
       "      <td>2266.61</td>\n",
       "    </tr>\n",
       "    <tr>\n",
       "      <th>1</th>\n",
       "      <td>2997.0</td>\n",
       "      <td>4.099366</td>\n",
       "      <td>29.223628</td>\n",
       "      <td>0.0</td>\n",
       "      <td>0.0</td>\n",
       "      <td>0.0</td>\n",
       "      <td>0.0</td>\n",
       "      <td>871.44</td>\n",
       "    </tr>\n",
       "  </tbody>\n",
       "</table>\n",
       "</div>"
      ],
      "text/plain": [
       "            count      mean        std  min  25%  50%  75%      max\n",
       "repeater                                                           \n",
       "0         93099.0  3.617372  30.678880  0.0  0.0  0.0  0.0  2266.61\n",
       "1          2997.0  4.099366  29.223628  0.0  0.0  0.0  0.0   871.44"
      ]
     },
     "execution_count": 27,
     "metadata": {},
     "output_type": "execute_result"
    }
   ],
   "source": [
    "## How much money is spent on vouchers?\n",
    "df.groupby('repeater')['fo_voucher_payment_value'].describe()"
   ]
  },
  {
   "cell_type": "code",
   "execution_count": 28,
   "metadata": {},
   "outputs": [
    {
     "name": "stderr",
     "output_type": "stream",
     "text": [
      "/Users/yukiogawa/anaconda3/lib/python3.11/site-packages/seaborn/_oldcore.py:1119: FutureWarning: use_inf_as_na option is deprecated and will be removed in a future version. Convert inf values to NaN before operating instead.\n",
      "  with pd.option_context('mode.use_inf_as_na', True):\n"
     ]
    },
    {
     "data": {
      "image/png": "[encoded data removed]",
      "text/plain": [
       "<Figure size 1200x600 with 1 Axes>"
      ]
     },
     "metadata": {},
     "output_type": "display_data"
    }
   ],
   "source": [
    "## histogram of voucher_payment_value grouped by repeater\n",
    "plt.figure(figsize=(12, 6))\n",
    "sns.histplot(data=df, x='fo_voucher_payment_value', hue='repeater', kde=True, bins=50)\n",
    "plt.title('Histogram of voucher_payment_value grouped by repeater')\n",
    "plt.show()"
   ]
  },
  {
   "cell_type": "code",
   "execution_count": 29,
   "metadata": {},
   "outputs": [
    {
     "name": "stderr",
     "output_type": "stream",
     "text": [
      "/Users/yukiogawa/anaconda3/lib/python3.11/site-packages/seaborn/_oldcore.py:1119: FutureWarning: use_inf_as_na option is deprecated and will be removed in a future version. Convert inf values to NaN before operating instead.\n",
      "  with pd.option_context('mode.use_inf_as_na', True):\n"
     ]
    },
    {
     "data": {
      "image/png": "[encoded data removed]",
      "text/plain": [
       "<Figure size 1200x600 with 1 Axes>"
      ]
     },
     "metadata": {},
     "output_type": "display_data"
    }
   ],
   "source": [
    "## Remove outliers\n",
    "plt.figure(figsize=(12, 6))\n",
    "sns.histplot(data=df[df['fo_voucher_payment_value'] < 300], x='fo_voucher_payment_value', hue='repeater', kde=True, bins=50)\n",
    "plt.title('Histogram of voucher_payment_value grouped by repeater')\n",
    "plt.show()"
   ]
  },
  {
   "cell_type": "markdown",
   "metadata": {},
   "source": [
    "- More than 90% of the customers don't use voucher for the first order.\n",
    "- There is no big difference in the distribution of repeaters and non-repeaters."
   ]
  },
  {
   "cell_type": "markdown",
   "metadata": {},
   "source": [
    "### Product category of the first order\n",
    "- If a user buy multiple products, I choose the first product category.\n",
    "- I wanted to choose the category those product is most expensive, but we don't have the product price."
   ]
  },
  {
   "cell_type": "code",
   "execution_count": 30,
   "metadata": {},
   "outputs": [
    {
     "name": "stdout",
     "output_type": "stream",
     "text": [
      "The average number of products for each order is 1.14.\n",
      "90.06 % of orders have only one product.\n"
     ]
    }
   ],
   "source": [
    "## Before that, let's check the average number of products for each order.\n",
    "average_num = df_order_items.groupby('order_id')['order_item_id'].count().mean()\n",
    "print(f\"The average number of products for each order is {average_num:.2f}.\")\n",
    "\n",
    "df_average_num = df_order_items.groupby('order_id')['order_item_id'].count().reset_index()\n",
    "df_average_num.columns = ['order_id', 'num_products']\n",
    "df_average_num.describe()\n",
    "\n",
    "one_product_percentage = (df_average_num['num_products'] == 1).mean() * 100\n",
    "print(f\"{one_product_percentage:.2f} % of orders have only one product.\")"
   ]
  },
  {
   "cell_type": "code",
   "execution_count": 31,
   "metadata": {},
   "outputs": [
    {
     "name": "stdout",
     "output_type": "stream",
     "text": [
      "df_order_items: (112650, 7)\n",
      "product_category_name_EN: (32951, 2)\n",
      "df_tmp: (112650, 7)\n",
      "df_order_product_category's order_id is unique?:  True\n",
      "df_order_product_category: (98666, 2)\n",
      "after_df_shape: (96096, 25)\n",
      "Merge test passed successfully.\n"
     ]
    }
   ],
   "source": [
    "## Replace Portuguese product category names with English ones\n",
    "product_category_name_EN = pd.merge(\n",
    "    df_products[['product_id', 'product_category_name']],\n",
    "    df_product_category_name_translation,\n",
    "    on='product_category_name',\n",
    "    how='left'\n",
    ")\n",
    "product_category_name_EN.drop('product_category_name', axis=1, inplace=True)\n",
    "\n",
    "## Merge df_order_items with product_category_name_EN\n",
    "print(f\"df_order_items: {df_order_items.shape}\")\n",
    "print(f\"product_category_name_EN: {product_category_name_EN.shape}\")\n",
    "df_tmp = pd.merge(\n",
    "    df_order_items[['order_id', 'product_id']],\n",
    "    product_category_name_EN,\n",
    "    on='product_id', how='inner'\n",
    ")\n",
    "print(f\"df_tmp: {df_order_items.shape}\")\n",
    "\n",
    "## Get the first product category name for each order\n",
    "df_order_product_category = df_tmp. \\\n",
    "    groupby('order_id')['product_category_name_english'].first().reset_index()\n",
    "## Check order_id is unique\n",
    "print(\"df_order_product_category's order_id is unique?: \", df_order_product_category['order_id'].is_unique)\n",
    "print(f\"df_order_product_category: {df_order_product_category.shape}\")\n",
    "\n",
    "df_shape = df.shape\n",
    "df = pd.merge(\n",
    "    df, df_order_product_category,\n",
    "    left_on='fo_order_id', right_on='order_id',\n",
    "    how='left'\n",
    ")\n",
    "df.drop('order_id', axis=1, inplace=True)\n",
    "test_merge_results(df_shape, df, 1)\n",
    "\n",
    "df.rename({\n",
    "    'product_category_name_english': 'fo_product_category_name'\n",
    "}, axis=1, inplace=True)\n"
   ]
  },
  {
   "cell_type": "markdown",
   "metadata": {},
   "source": [
    "### \"is San Paulo\" or not"
   ]
  },
  {
   "cell_type": "code",
   "execution_count": 32,
   "metadata": {},
   "outputs": [
    {
     "data": {
      "text/plain": [
       "customer_in_sao_paulo\n",
       "0    55805\n",
       "1    40291\n",
       "Name: count, dtype: int64"
      ]
     },
     "execution_count": 32,
     "metadata": {},
     "output_type": "execute_result"
    }
   ],
   "source": [
    "df['customer_in_sao_paulo'] = df['customer_state'].apply(lambda x: 1 if x == 'SP' else 0)\n",
    "df['customer_in_sao_paulo'] = df['customer_in_sao_paulo'].astype('int8')\n",
    "\n",
    "df['customer_in_sao_paulo'].value_counts()"
   ]
  },
  {
   "cell_type": "markdown",
   "metadata": {},
   "source": [
    "## Finally see the result"
   ]
  },
  {
   "cell_type": "code",
   "execution_count": 33,
   "metadata": {},
   "outputs": [
    {
     "name": "stdout",
     "output_type": "stream",
     "text": [
      "df: (96096, 26)\n"
     ]
    },
    {
     "data": {
      "text/html": [
       "<div>\n",
       "<style scoped>\n",
       "    .dataframe tbody tr th:only-of-type {\n",
       "        vertical-align: middle;\n",
       "    }\n",
       "\n",
       "    .dataframe tbody tr th {\n",
       "        vertical-align: top;\n",
       "    }\n",
       "\n",
       "    .dataframe thead th {\n",
       "        text-align: right;\n",
       "    }\n",
       "</style>\n",
       "<table border=\"1\" class=\"dataframe\">\n",
       "  <thead>\n",
       "    <tr style=\"text-align: right;\">\n",
       "      <th></th>\n",
       "      <th>customer_unique_id</th>\n",
       "      <th>frequency</th>\n",
       "      <th>repeater</th>\n",
       "      <th>fo_order_id</th>\n",
       "      <th>fo_customer_id</th>\n",
       "      <th>fo_order_status</th>\n",
       "      <th>fo_order_purchase_timestamp</th>\n",
       "      <th>fo_order_approved_at</th>\n",
       "      <th>fo_order_delivered_carrier_date</th>\n",
       "      <th>fo_order_delivered_customer_date</th>\n",
       "      <th>...</th>\n",
       "      <th>rfm_score</th>\n",
       "      <th>fo_payment_value</th>\n",
       "      <th>fo_is_daytime</th>\n",
       "      <th>fo_is_weekday</th>\n",
       "      <th>fo_delivery_delay_days</th>\n",
       "      <th>fo_review_score_mean</th>\n",
       "      <th>fo_voucher_payment_value</th>\n",
       "      <th>fo_voucher_used</th>\n",
       "      <th>fo_product_category_name</th>\n",
       "      <th>customer_in_sao_paulo</th>\n",
       "    </tr>\n",
       "  </thead>\n",
       "  <tbody>\n",
       "    <tr>\n",
       "      <th>0</th>\n",
       "      <td>0000366f3b9a7992bf8c76cfdf3221e2</td>\n",
       "      <td>1</td>\n",
       "      <td>0</td>\n",
       "      <td>e22acc9c116caa3f2b7121bbb380d08e</td>\n",
       "      <td>fadbb3709178fc513abc1b2670aa1ad2</td>\n",
       "      <td>delivered</td>\n",
       "      <td>2018-05-10 10:56:27</td>\n",
       "      <td>2018-05-10 11:11:18</td>\n",
       "      <td>2018-05-12 08:18:00</td>\n",
       "      <td>2018-05-16 20:48:37</td>\n",
       "      <td>...</td>\n",
       "      <td>0</td>\n",
       "      <td>141.90</td>\n",
       "      <td>1</td>\n",
       "      <td>1</td>\n",
       "      <td>-5.0</td>\n",
       "      <td>5.0</td>\n",
       "      <td>0.0</td>\n",
       "      <td>1</td>\n",
       "      <td>bed_bath_table</td>\n",
       "      <td>1</td>\n",
       "    </tr>\n",
       "    <tr>\n",
       "      <th>1</th>\n",
       "      <td>0000b849f77a49e4a4ce2b2a4ca5be3f</td>\n",
       "      <td>1</td>\n",
       "      <td>0</td>\n",
       "      <td>3594e05a005ac4d06a72673270ef9ec9</td>\n",
       "      <td>4cb282e167ae9234755102258dd52ee8</td>\n",
       "      <td>delivered</td>\n",
       "      <td>2018-05-07 11:11:27</td>\n",
       "      <td>2018-05-07 18:25:44</td>\n",
       "      <td>2018-05-09 12:18:00</td>\n",
       "      <td>2018-05-10 18:02:42</td>\n",
       "      <td>...</td>\n",
       "      <td>0</td>\n",
       "      <td>27.19</td>\n",
       "      <td>1</td>\n",
       "      <td>1</td>\n",
       "      <td>-5.0</td>\n",
       "      <td>4.0</td>\n",
       "      <td>0.0</td>\n",
       "      <td>1</td>\n",
       "      <td>health_beauty</td>\n",
       "      <td>1</td>\n",
       "    </tr>\n",
       "    <tr>\n",
       "      <th>2</th>\n",
       "      <td>0000f46a3911fa3c0805444483337064</td>\n",
       "      <td>1</td>\n",
       "      <td>0</td>\n",
       "      <td>b33ec3b699337181488304f362a6b734</td>\n",
       "      <td>9b3932a6253894a02c1df9d19004239f</td>\n",
       "      <td>delivered</td>\n",
       "      <td>2017-03-10 21:05:03</td>\n",
       "      <td>2017-03-10 21:05:03</td>\n",
       "      <td>2017-03-13 12:58:30</td>\n",
       "      <td>2017-04-05 14:38:47</td>\n",
       "      <td>...</td>\n",
       "      <td>1</td>\n",
       "      <td>86.22</td>\n",
       "      <td>1</td>\n",
       "      <td>1</td>\n",
       "      <td>-2.0</td>\n",
       "      <td>3.0</td>\n",
       "      <td>0.0</td>\n",
       "      <td>1</td>\n",
       "      <td>stationery</td>\n",
       "      <td>0</td>\n",
       "    </tr>\n",
       "    <tr>\n",
       "      <th>3</th>\n",
       "      <td>0000f6ccb0745a6a4b88665a16c9f078</td>\n",
       "      <td>1</td>\n",
       "      <td>0</td>\n",
       "      <td>41272756ecddd9a9ed0180413cc22fb6</td>\n",
       "      <td>914991f0c02ef0843c0e7010c819d642</td>\n",
       "      <td>delivered</td>\n",
       "      <td>2017-10-12 20:29:41</td>\n",
       "      <td>2017-10-12 20:49:17</td>\n",
       "      <td>2017-10-13 20:08:19</td>\n",
       "      <td>2017-11-01 21:23:05</td>\n",
       "      <td>...</td>\n",
       "      <td>1</td>\n",
       "      <td>43.62</td>\n",
       "      <td>1</td>\n",
       "      <td>1</td>\n",
       "      <td>-12.0</td>\n",
       "      <td>4.0</td>\n",
       "      <td>0.0</td>\n",
       "      <td>1</td>\n",
       "      <td>telephony</td>\n",
       "      <td>0</td>\n",
       "    </tr>\n",
       "    <tr>\n",
       "      <th>4</th>\n",
       "      <td>0004aac84e0df4da2b147fca70cf8255</td>\n",
       "      <td>1</td>\n",
       "      <td>0</td>\n",
       "      <td>d957021f1127559cd947b62533f484f7</td>\n",
       "      <td>47227568b10f5f58a524a75507e6992c</td>\n",
       "      <td>delivered</td>\n",
       "      <td>2017-11-14 19:45:42</td>\n",
       "      <td>2017-11-14 20:06:52</td>\n",
       "      <td>2017-11-16 19:52:10</td>\n",
       "      <td>2017-11-27 23:08:56</td>\n",
       "      <td>...</td>\n",
       "      <td>1</td>\n",
       "      <td>196.89</td>\n",
       "      <td>1</td>\n",
       "      <td>1</td>\n",
       "      <td>-8.0</td>\n",
       "      <td>5.0</td>\n",
       "      <td>0.0</td>\n",
       "      <td>1</td>\n",
       "      <td>telephony</td>\n",
       "      <td>1</td>\n",
       "    </tr>\n",
       "  </tbody>\n",
       "</table>\n",
       "<p>5 rows × 26 columns</p>\n",
       "</div>"
      ],
      "text/plain": [
       "                 customer_unique_id  frequency  repeater  \\\n",
       "0  0000366f3b9a7992bf8c76cfdf3221e2          1         0   \n",
       "1  0000b849f77a49e4a4ce2b2a4ca5be3f          1         0   \n",
       "2  0000f46a3911fa3c0805444483337064          1         0   \n",
       "3  0000f6ccb0745a6a4b88665a16c9f078          1         0   \n",
       "4  0004aac84e0df4da2b147fca70cf8255          1         0   \n",
       "\n",
       "                        fo_order_id                    fo_customer_id  \\\n",
       "0  e22acc9c116caa3f2b7121bbb380d08e  fadbb3709178fc513abc1b2670aa1ad2   \n",
       "1  3594e05a005ac4d06a72673270ef9ec9  4cb282e167ae9234755102258dd52ee8   \n",
       "2  b33ec3b699337181488304f362a6b734  9b3932a6253894a02c1df9d19004239f   \n",
       "3  41272756ecddd9a9ed0180413cc22fb6  914991f0c02ef0843c0e7010c819d642   \n",
       "4  d957021f1127559cd947b62533f484f7  47227568b10f5f58a524a75507e6992c   \n",
       "\n",
       "  fo_order_status fo_order_purchase_timestamp fo_order_approved_at  \\\n",
       "0       delivered         2018-05-10 10:56:27  2018-05-10 11:11:18   \n",
       "1       delivered         2018-05-07 11:11:27  2018-05-07 18:25:44   \n",
       "2       delivered         2017-03-10 21:05:03  2017-03-10 21:05:03   \n",
       "3       delivered         2017-10-12 20:29:41  2017-10-12 20:49:17   \n",
       "4       delivered         2017-11-14 19:45:42  2017-11-14 20:06:52   \n",
       "\n",
       "  fo_order_delivered_carrier_date fo_order_delivered_customer_date  ...  \\\n",
       "0             2018-05-12 08:18:00              2018-05-16 20:48:37  ...   \n",
       "1             2018-05-09 12:18:00              2018-05-10 18:02:42  ...   \n",
       "2             2017-03-13 12:58:30              2017-04-05 14:38:47  ...   \n",
       "3             2017-10-13 20:08:19              2017-11-01 21:23:05  ...   \n",
       "4             2017-11-16 19:52:10              2017-11-27 23:08:56  ...   \n",
       "\n",
       "  rfm_score  fo_payment_value fo_is_daytime fo_is_weekday  \\\n",
       "0         0            141.90             1             1   \n",
       "1         0             27.19             1             1   \n",
       "2         1             86.22             1             1   \n",
       "3         1             43.62             1             1   \n",
       "4         1            196.89             1             1   \n",
       "\n",
       "   fo_delivery_delay_days  fo_review_score_mean  fo_voucher_payment_value  \\\n",
       "0                    -5.0                   5.0                       0.0   \n",
       "1                    -5.0                   4.0                       0.0   \n",
       "2                    -2.0                   3.0                       0.0   \n",
       "3                   -12.0                   4.0                       0.0   \n",
       "4                    -8.0                   5.0                       0.0   \n",
       "\n",
       "   fo_voucher_used  fo_product_category_name  customer_in_sao_paulo  \n",
       "0                1            bed_bath_table                      1  \n",
       "1                1             health_beauty                      1  \n",
       "2                1                stationery                      0  \n",
       "3                1                 telephony                      0  \n",
       "4                1                 telephony                      1  \n",
       "\n",
       "[5 rows x 26 columns]"
      ]
     },
     "execution_count": 33,
     "metadata": {},
     "output_type": "execute_result"
    }
   ],
   "source": [
    "print(f\"df: {df.shape}\")\n",
    "df.head()"
   ]
  },
  {
   "cell_type": "code",
   "execution_count": 34,
   "metadata": {},
   "outputs": [
    {
     "data": {
      "text/html": [
       "<div>\n",
       "<style scoped>\n",
       "    .dataframe tbody tr th:only-of-type {\n",
       "        vertical-align: middle;\n",
       "    }\n",
       "\n",
       "    .dataframe tbody tr th {\n",
       "        vertical-align: top;\n",
       "    }\n",
       "\n",
       "    .dataframe thead th {\n",
       "        text-align: right;\n",
       "    }\n",
       "</style>\n",
       "<table border=\"1\" class=\"dataframe\">\n",
       "  <thead>\n",
       "    <tr style=\"text-align: right;\">\n",
       "      <th></th>\n",
       "      <th>column</th>\n",
       "      <th>dtype</th>\n",
       "      <th>missing_values</th>\n",
       "      <th>source</th>\n",
       "      <th>description</th>\n",
       "    </tr>\n",
       "  </thead>\n",
       "  <tbody>\n",
       "    <tr>\n",
       "      <th>0</th>\n",
       "      <td>customer_unique_id</td>\n",
       "      <td>object</td>\n",
       "      <td>0</td>\n",
       "      <td>df_customers</td>\n",
       "      <td>PK</td>\n",
       "    </tr>\n",
       "    <tr>\n",
       "      <th>1</th>\n",
       "      <td>frequency</td>\n",
       "      <td>int64</td>\n",
       "      <td>0</td>\n",
       "      <td>Calculated</td>\n",
       "      <td>number of orders</td>\n",
       "    </tr>\n",
       "    <tr>\n",
       "      <th>2</th>\n",
       "      <td>repeater</td>\n",
       "      <td>int8</td>\n",
       "      <td>0</td>\n",
       "      <td>Calculated</td>\n",
       "      <td>1:repeater, 0:non-repeater</td>\n",
       "    </tr>\n",
       "    <tr>\n",
       "      <th>3</th>\n",
       "      <td>fo_order_id</td>\n",
       "      <td>object</td>\n",
       "      <td>0</td>\n",
       "      <td>df_orders</td>\n",
       "      <td>FK</td>\n",
       "    </tr>\n",
       "    <tr>\n",
       "      <th>4</th>\n",
       "      <td>fo_customer_id</td>\n",
       "      <td>object</td>\n",
       "      <td>0</td>\n",
       "      <td>df_orders</td>\n",
       "      <td>FK (first order's customer_id)</td>\n",
       "    </tr>\n",
       "    <tr>\n",
       "      <th>5</th>\n",
       "      <td>fo_order_status</td>\n",
       "      <td>object</td>\n",
       "      <td>0</td>\n",
       "      <td>df_orders</td>\n",
       "      <td></td>\n",
       "    </tr>\n",
       "    <tr>\n",
       "      <th>6</th>\n",
       "      <td>fo_order_purchase_timestamp</td>\n",
       "      <td>datetime64[ns]</td>\n",
       "      <td>0</td>\n",
       "      <td>df_orders</td>\n",
       "      <td></td>\n",
       "    </tr>\n",
       "    <tr>\n",
       "      <th>7</th>\n",
       "      <td>fo_order_approved_at</td>\n",
       "      <td>datetime64[ns]</td>\n",
       "      <td>0</td>\n",
       "      <td>df_orders</td>\n",
       "      <td></td>\n",
       "    </tr>\n",
       "    <tr>\n",
       "      <th>8</th>\n",
       "      <td>fo_order_delivered_carrier_date</td>\n",
       "      <td>datetime64[ns]</td>\n",
       "      <td>0</td>\n",
       "      <td>df_orders</td>\n",
       "      <td></td>\n",
       "    </tr>\n",
       "    <tr>\n",
       "      <th>9</th>\n",
       "      <td>fo_order_delivered_customer_date</td>\n",
       "      <td>datetime64[ns]</td>\n",
       "      <td>0</td>\n",
       "      <td>df_orders</td>\n",
       "      <td></td>\n",
       "    </tr>\n",
       "    <tr>\n",
       "      <th>10</th>\n",
       "      <td>fo_order_estimated_delivery_date</td>\n",
       "      <td>datetime64[ns]</td>\n",
       "      <td>0</td>\n",
       "      <td>df_orders</td>\n",
       "      <td></td>\n",
       "    </tr>\n",
       "    <tr>\n",
       "      <th>11</th>\n",
       "      <td>customer_zip_code_prefix</td>\n",
       "      <td>int64</td>\n",
       "      <td>0</td>\n",
       "      <td>df_customers</td>\n",
       "      <td></td>\n",
       "    </tr>\n",
       "    <tr>\n",
       "      <th>12</th>\n",
       "      <td>customer_city</td>\n",
       "      <td>object</td>\n",
       "      <td>0</td>\n",
       "      <td>df_customers</td>\n",
       "      <td></td>\n",
       "    </tr>\n",
       "    <tr>\n",
       "      <th>13</th>\n",
       "      <td>customer_state</td>\n",
       "      <td>object</td>\n",
       "      <td>0</td>\n",
       "      <td>df_customers</td>\n",
       "      <td></td>\n",
       "    </tr>\n",
       "    <tr>\n",
       "      <th>14</th>\n",
       "      <td>recency</td>\n",
       "      <td>int64</td>\n",
       "      <td>0</td>\n",
       "      <td>Calculated</td>\n",
       "      <td># of days after the last order</td>\n",
       "    </tr>\n",
       "    <tr>\n",
       "      <th>15</th>\n",
       "      <td>monetary</td>\n",
       "      <td>float64</td>\n",
       "      <td>0</td>\n",
       "      <td>Calculated</td>\n",
       "      <td>total payment amount</td>\n",
       "    </tr>\n",
       "    <tr>\n",
       "      <th>16</th>\n",
       "      <td>rfm_score</td>\n",
       "      <td>int64</td>\n",
       "      <td>0</td>\n",
       "      <td>Calculated</td>\n",
       "      <td>using k-means. (0-3)</td>\n",
       "    </tr>\n",
       "    <tr>\n",
       "      <th>17</th>\n",
       "      <td>fo_payment_value</td>\n",
       "      <td>float64</td>\n",
       "      <td>1</td>\n",
       "      <td>df_order_payments</td>\n",
       "      <td></td>\n",
       "    </tr>\n",
       "    <tr>\n",
       "      <th>18</th>\n",
       "      <td>fo_is_daytime</td>\n",
       "      <td>int8</td>\n",
       "      <td>0</td>\n",
       "      <td>Calculated</td>\n",
       "      <td>1:9-23, 0:0-8</td>\n",
       "    </tr>\n",
       "    <tr>\n",
       "      <th>19</th>\n",
       "      <td>fo_is_weekday</td>\n",
       "      <td>int8</td>\n",
       "      <td>0</td>\n",
       "      <td>Calculated</td>\n",
       "      <td>1:weekday, 0:weekend</td>\n",
       "    </tr>\n",
       "    <tr>\n",
       "      <th>20</th>\n",
       "      <td>fo_delivery_delay_days</td>\n",
       "      <td>float64</td>\n",
       "      <td>2845</td>\n",
       "      <td>Calculated</td>\n",
       "      <td>&gt;0:delay, &lt;0:ahead</td>\n",
       "    </tr>\n",
       "    <tr>\n",
       "      <th>21</th>\n",
       "      <td>fo_review_score_mean</td>\n",
       "      <td>float64</td>\n",
       "      <td>737</td>\n",
       "      <td>df_order_reviews</td>\n",
       "      <td></td>\n",
       "    </tr>\n",
       "    <tr>\n",
       "      <th>22</th>\n",
       "      <td>fo_voucher_payment_value</td>\n",
       "      <td>float64</td>\n",
       "      <td>0</td>\n",
       "      <td>df_order_payments</td>\n",
       "      <td></td>\n",
       "    </tr>\n",
       "    <tr>\n",
       "      <th>23</th>\n",
       "      <td>fo_voucher_used</td>\n",
       "      <td>int8</td>\n",
       "      <td>0</td>\n",
       "      <td>Calculated</td>\n",
       "      <td>1:used, 0:non-used</td>\n",
       "    </tr>\n",
       "    <tr>\n",
       "      <th>24</th>\n",
       "      <td>fo_product_category_name</td>\n",
       "      <td>object</td>\n",
       "      <td>0</td>\n",
       "      <td>df_product_category_name</td>\n",
       "      <td></td>\n",
       "    </tr>\n",
       "    <tr>\n",
       "      <th>25</th>\n",
       "      <td>customer_in_sao_paulo</td>\n",
       "      <td>int8</td>\n",
       "      <td>0</td>\n",
       "      <td>Calculated</td>\n",
       "      <td>1:in Sao Paulo, 0:non-Sao Paulo</td>\n",
       "    </tr>\n",
       "  </tbody>\n",
       "</table>\n",
       "</div>"
      ],
      "text/plain": [
       "                              column           dtype  missing_values  \\\n",
       "0                 customer_unique_id          object               0   \n",
       "1                          frequency           int64               0   \n",
       "2                           repeater            int8               0   \n",
       "3                        fo_order_id          object               0   \n",
       "4                     fo_customer_id          object               0   \n",
       "5                    fo_order_status          object               0   \n",
       "6        fo_order_purchase_timestamp  datetime64[ns]               0   \n",
       "7               fo_order_approved_at  datetime64[ns]               0   \n",
       "8    fo_order_delivered_carrier_date  datetime64[ns]               0   \n",
       "9   fo_order_delivered_customer_date  datetime64[ns]               0   \n",
       "10  fo_order_estimated_delivery_date  datetime64[ns]               0   \n",
       "11          customer_zip_code_prefix           int64               0   \n",
       "12                     customer_city          object               0   \n",
       "13                    customer_state          object               0   \n",
       "14                           recency           int64               0   \n",
       "15                          monetary         float64               0   \n",
       "16                         rfm_score           int64               0   \n",
       "17                  fo_payment_value         float64               1   \n",
       "18                     fo_is_daytime            int8               0   \n",
       "19                     fo_is_weekday            int8               0   \n",
       "20            fo_delivery_delay_days         float64            2845   \n",
       "21              fo_review_score_mean         float64             737   \n",
       "22          fo_voucher_payment_value         float64               0   \n",
       "23                   fo_voucher_used            int8               0   \n",
       "24          fo_product_category_name          object               0   \n",
       "25             customer_in_sao_paulo            int8               0   \n",
       "\n",
       "                      source                      description  \n",
       "0               df_customers                               PK  \n",
       "1                 Calculated                 number of orders  \n",
       "2                 Calculated       1:repeater, 0:non-repeater  \n",
       "3                  df_orders                               FK  \n",
       "4                  df_orders   FK (first order's customer_id)  \n",
       "5                  df_orders                                   \n",
       "6                  df_orders                                   \n",
       "7                  df_orders                                   \n",
       "8                  df_orders                                   \n",
       "9                  df_orders                                   \n",
       "10                 df_orders                                   \n",
       "11              df_customers                                   \n",
       "12              df_customers                                   \n",
       "13              df_customers                                   \n",
       "14                Calculated   # of days after the last order  \n",
       "15                Calculated             total payment amount  \n",
       "16                Calculated             using k-means. (0-3)  \n",
       "17         df_order_payments                                   \n",
       "18                Calculated                    1:9-23, 0:0-8  \n",
       "19                Calculated             1:weekday, 0:weekend  \n",
       "20                Calculated               >0:delay, <0:ahead  \n",
       "21          df_order_reviews                                   \n",
       "22         df_order_payments                                   \n",
       "23                Calculated               1:used, 0:non-used  \n",
       "24  df_product_category_name                                   \n",
       "25                Calculated  1:in Sao Paulo, 0:non-Sao Paulo  "
      ]
     },
     "execution_count": 34,
     "metadata": {},
     "output_type": "execute_result"
    }
   ],
   "source": [
    "from utils import get_df_description\n",
    "\n",
    "# load json file\n",
    "description_json = json.load(open('df_train_description.json', 'r'))\n",
    "description_json_df = pd.DataFrame(description_json)\n",
    "\n",
    "# get df_description\n",
    "df_description = get_df_description(df, description_json_df)\n",
    "df_description"
   ]
  },
  {
   "cell_type": "code",
   "execution_count": 35,
   "metadata": {},
   "outputs": [],
   "source": [
    "# drop the row where the # of missing values of monetary is greater than 0.\n",
    "df = df[df['monetary'].notna()]"
   ]
  },
  {
   "cell_type": "code",
   "execution_count": 36,
   "metadata": {},
   "outputs": [],
   "source": [
    "def save_df(df, file_name):\n",
    "  df.to_csv(f'../datasets/{file_name}.csv', index=False)\n",
    "\n",
    "save_df(df, 'df_train')\n",
    "\n",
    "# Sampling 5000 data and save it\n",
    "# to avoid multicollinearity, we drop the following columns\n",
    "df_sample_5000 = df.sample(5000, random_state=42)\n",
    "df_sample_5000.drop(columns=['frequency', 'monetary', 'fo_voucher_used'], inplace=True)\n",
    "save_df(df_sample_5000, 'df_sample_5000')"
   ]
  },
  {
   "cell_type": "code",
   "execution_count": 37,
   "metadata": {},
   "outputs": [
    {
     "data": {
      "text/plain": [
       "fo_voucher_used\n",
       "1    96096\n",
       "Name: count, dtype: int64"
      ]
     },
     "execution_count": 37,
     "metadata": {},
     "output_type": "execute_result"
    }
   ],
   "source": [
    "df['fo_voucher_used'].value_counts()"
   ]
  },
  {
   "cell_type": "code",
   "execution_count": null,
   "metadata": {},
   "outputs": [],
   "source": []
  }
 ],
 "metadata": {
  "kernelspec": {
   "display_name": "base",
   "language": "python",
   "name": "python3"
  },
  "language_info": {
   "codemirror_mode": {
    "name": "ipython",
    "version": 3
   },
   "file_extension": ".py",
   "mimetype": "text/x-python",
   "name": "python",
   "nbconvert_exporter": "python",
   "pygments_lexer": "ipython3",
   "version": "3.11.5"
  }
 },
 "nbformat": 4,
 "nbformat_minor": 2
}
